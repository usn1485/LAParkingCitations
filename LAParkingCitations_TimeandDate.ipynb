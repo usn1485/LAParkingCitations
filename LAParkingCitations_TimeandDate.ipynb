{
 "cells": [
  {
   "cell_type": "markdown",
   "metadata": {},
   "source": [
    "# Date, Time  and Citations count  Findings. \n",
    "In this research we will be lookign for following research questions: \n",
    "1. What time of the day more citations are given?\n",
    "2. What day of a week more citaions are given?\n",
    "3. Comparing weekend vs Weekdays Citations. \n",
    "4. Holiday vs business day citations. "
   ]
  },
  {
   "cell_type": "code",
   "execution_count": 1,
   "metadata": {},
   "outputs": [],
   "source": [
    "#Import Necessary Modules\n",
    "import numpy as np \n",
    "import seaborn as sns\n",
    "import pandas as pd \n",
    "import requests\n",
    "import json\n",
    "import csv\n",
    "import matplotlib.pyplot as plt\n",
    "import time \n",
    "import calendar\n",
    "import datetime\n",
    "import holidays\n",
    "import os"
   ]
  },
  {
   "cell_type": "markdown",
   "metadata": {},
   "source": [
    "######  Data extraction\n",
    "Our Dataset has 9 millions of rows, so took sample from actual csv file and saved it into LAPsampledata csv file.\n",
    "\n",
    "Date_time_df=dataframe.sample(frac=0.005, replace=True,axis=0)"
   ]
  },
  {
   "cell_type": "code",
   "execution_count": 2,
   "metadata": {},
   "outputs": [
    {
     "data": {
      "text/plain": [
       "Ticket number    47093\n",
       "Issue Date       47090\n",
       "Issue time       47068\n",
       "dtype: int64"
      ]
     },
     "execution_count": 2,
     "metadata": {},
     "output_type": "execute_result"
    }
   ],
   "source": [
    "# Read CSV file\n",
    "dataframe = pd.read_csv('../Data/LAPsampledata.csv',parse_dates=['Issue Date'],low_memory=False)\n",
    "#Remove Unwanted Columns\n",
    "Date_time_df=dataframe.drop(['Meter Id','Marked Time','Plate Expiry Date','VIN','Route','Agency'],axis=1)\n",
    "#Check for null values\n",
    "Date_time_df=Date_time_df[[\"Ticket number\",\"Issue Date\",\"Issue time\"]]\n",
    "Date_time_df.count()"
   ]
  },
  {
   "cell_type": "code",
   "execution_count": 3,
   "metadata": {},
   "outputs": [
    {
     "data": {
      "text/html": [
       "<div>\n",
       "<style scoped>\n",
       "    .dataframe tbody tr th:only-of-type {\n",
       "        vertical-align: middle;\n",
       "    }\n",
       "\n",
       "    .dataframe tbody tr th {\n",
       "        vertical-align: top;\n",
       "    }\n",
       "\n",
       "    .dataframe thead th {\n",
       "        text-align: right;\n",
       "    }\n",
       "</style>\n",
       "<table border=\"1\" class=\"dataframe\">\n",
       "  <thead>\n",
       "    <tr style=\"text-align: right;\">\n",
       "      <th></th>\n",
       "      <th>Ticket number</th>\n",
       "      <th>Issue Date</th>\n",
       "      <th>Issue time</th>\n",
       "    </tr>\n",
       "  </thead>\n",
       "  <tbody>\n",
       "    <tr>\n",
       "      <th>0</th>\n",
       "      <td>4297600543</td>\n",
       "      <td>2016-11-06</td>\n",
       "      <td>746.0</td>\n",
       "    </tr>\n",
       "    <tr>\n",
       "      <th>1</th>\n",
       "      <td>4351910846</td>\n",
       "      <td>2019-04-02</td>\n",
       "      <td>1803.0</td>\n",
       "    </tr>\n",
       "    <tr>\n",
       "      <th>2</th>\n",
       "      <td>4304968275</td>\n",
       "      <td>2017-03-16</td>\n",
       "      <td>1904.0</td>\n",
       "    </tr>\n",
       "    <tr>\n",
       "      <th>3</th>\n",
       "      <td>4295311462</td>\n",
       "      <td>2016-10-27</td>\n",
       "      <td>1359.0</td>\n",
       "    </tr>\n",
       "    <tr>\n",
       "      <th>4</th>\n",
       "      <td>4278878494</td>\n",
       "      <td>2016-03-18</td>\n",
       "      <td>2309.0</td>\n",
       "    </tr>\n",
       "  </tbody>\n",
       "</table>\n",
       "</div>"
      ],
      "text/plain": [
       "   Ticket number Issue Date  Issue time\n",
       "0     4297600543 2016-11-06       746.0\n",
       "1     4351910846 2019-04-02      1803.0\n",
       "2     4304968275 2017-03-16      1904.0\n",
       "3     4295311462 2016-10-27      1359.0\n",
       "4     4278878494 2016-03-18      2309.0"
      ]
     },
     "execution_count": 3,
     "metadata": {},
     "output_type": "execute_result"
    }
   ],
   "source": [
    "# Display the datafrome\n",
    "Date_time_df.head()"
   ]
  },
  {
   "cell_type": "code",
   "execution_count": 4,
   "metadata": {},
   "outputs": [],
   "source": [
    "#Removing Null Values and converting Issue time column to integer \n",
    "Date_time_df[\"Issue time\"].isna().any()\n",
    "Date_time_df = Date_time_df.dropna(axis = 0, how ='any',inplace=False) \n",
    "Date_time_df['Issue time'] = Date_time_df.loc[:,['Issue time']].astype(int)"
   ]
  },
  {
   "cell_type": "code",
   "execution_count": null,
   "metadata": {},
   "outputs": [],
   "source": [
    "# Date_time_df.info()"
   ]
  },
  {
   "cell_type": "code",
   "execution_count": 5,
   "metadata": {},
   "outputs": [],
   "source": [
    "Date_time_df['Issue time'] = Date_time_df['Issue time'].apply(str)\n",
    "\n",
    "for i,time in enumerate(Date_time_df['Issue time']):\n",
    "\n",
    "    length = len(time)\n",
    "    if(length==1):\n",
    "        time=\"000\"+ time\n",
    "    elif(length==2):\n",
    "        time = \"00\" + time\n",
    "    elif(length==3):\n",
    "        time = \"0\"+ time\n",
    "    else:\n",
    "        time = time\n",
    "   \n",
    "    Date_time_df.at[i,\"Issue time\"] = time"
   ]
  },
  {
   "cell_type": "code",
   "execution_count": 6,
   "metadata": {},
   "outputs": [
    {
     "name": "stdout",
     "output_type": "stream",
     "text": [
      "<class 'pandas.core.frame.DataFrame'>\n",
      "Int64Index: 47068 entries, 0 to 47092\n",
      "Data columns (total 3 columns):\n",
      "Ticket number    47068 non-null float64\n",
      "Issue Date       47068 non-null datetime64[ns]\n",
      "Issue time       47068 non-null int64\n",
      "dtypes: datetime64[ns](1), float64(1), int64(1)\n",
      "memory usage: 1.4 MB\n"
     ]
    }
   ],
   "source": [
    "#Extracting Hour from Issue time column \n",
    "Date_time_df['Issue time']=pd.to_datetime(Date_time_df['Issue time'],format ='%H%M').dt.hour\n",
    "Date_time_df = Date_time_df.dropna(axis = 0, how ='any',inplace=False)\n",
    "Date_time_df.info()"
   ]
  },
  {
   "cell_type": "code",
   "execution_count": 7,
   "metadata": {},
   "outputs": [
    {
     "data": {
      "text/html": [
       "<div>\n",
       "<style scoped>\n",
       "    .dataframe tbody tr th:only-of-type {\n",
       "        vertical-align: middle;\n",
       "    }\n",
       "\n",
       "    .dataframe tbody tr th {\n",
       "        vertical-align: top;\n",
       "    }\n",
       "\n",
       "    .dataframe thead th {\n",
       "        text-align: right;\n",
       "    }\n",
       "</style>\n",
       "<table border=\"1\" class=\"dataframe\">\n",
       "  <thead>\n",
       "    <tr style=\"text-align: right;\">\n",
       "      <th></th>\n",
       "      <th>Ticket number</th>\n",
       "      <th>Issue Date</th>\n",
       "      <th>Issue time</th>\n",
       "    </tr>\n",
       "  </thead>\n",
       "  <tbody>\n",
       "    <tr>\n",
       "      <th>0</th>\n",
       "      <td>4.297601e+09</td>\n",
       "      <td>2016-11-06</td>\n",
       "      <td>7</td>\n",
       "    </tr>\n",
       "    <tr>\n",
       "      <th>1</th>\n",
       "      <td>4.351911e+09</td>\n",
       "      <td>2019-04-02</td>\n",
       "      <td>18</td>\n",
       "    </tr>\n",
       "    <tr>\n",
       "      <th>2</th>\n",
       "      <td>4.304968e+09</td>\n",
       "      <td>2017-03-16</td>\n",
       "      <td>19</td>\n",
       "    </tr>\n",
       "    <tr>\n",
       "      <th>3</th>\n",
       "      <td>4.295311e+09</td>\n",
       "      <td>2016-10-27</td>\n",
       "      <td>13</td>\n",
       "    </tr>\n",
       "    <tr>\n",
       "      <th>4</th>\n",
       "      <td>4.278878e+09</td>\n",
       "      <td>2016-03-18</td>\n",
       "      <td>23</td>\n",
       "    </tr>\n",
       "  </tbody>\n",
       "</table>\n",
       "</div>"
      ],
      "text/plain": [
       "   Ticket number Issue Date  Issue time\n",
       "0   4.297601e+09 2016-11-06           7\n",
       "1   4.351911e+09 2019-04-02          18\n",
       "2   4.304968e+09 2017-03-16          19\n",
       "3   4.295311e+09 2016-10-27          13\n",
       "4   4.278878e+09 2016-03-18          23"
      ]
     },
     "execution_count": 7,
     "metadata": {},
     "output_type": "execute_result"
    }
   ],
   "source": [
    "#Date_time_df = Date_time_df.dropna(axis = 0, how ='any',inplace=False)\n",
    "Date_time_df.head()"
   ]
  },
  {
   "cell_type": "code",
   "execution_count": 8,
   "metadata": {},
   "outputs": [
    {
     "data": {
      "text/html": [
       "<div>\n",
       "<style scoped>\n",
       "    .dataframe tbody tr th:only-of-type {\n",
       "        vertical-align: middle;\n",
       "    }\n",
       "\n",
       "    .dataframe tbody tr th {\n",
       "        vertical-align: top;\n",
       "    }\n",
       "\n",
       "    .dataframe thead th {\n",
       "        text-align: right;\n",
       "    }\n",
       "</style>\n",
       "<table border=\"1\" class=\"dataframe\">\n",
       "  <thead>\n",
       "    <tr style=\"text-align: right;\">\n",
       "      <th></th>\n",
       "      <th>Ticket number</th>\n",
       "      <th>Issue Date</th>\n",
       "      <th>Issue time</th>\n",
       "      <th>Year</th>\n",
       "      <th>Month</th>\n",
       "      <th>Date</th>\n",
       "      <th>day_of_week</th>\n",
       "    </tr>\n",
       "  </thead>\n",
       "  <tbody>\n",
       "    <tr>\n",
       "      <th>0</th>\n",
       "      <td>4.297601e+09</td>\n",
       "      <td>2016-11-06</td>\n",
       "      <td>7</td>\n",
       "      <td>2016</td>\n",
       "      <td>11</td>\n",
       "      <td>6</td>\n",
       "      <td>Sunday</td>\n",
       "    </tr>\n",
       "    <tr>\n",
       "      <th>1</th>\n",
       "      <td>4.351911e+09</td>\n",
       "      <td>2019-04-02</td>\n",
       "      <td>18</td>\n",
       "      <td>2019</td>\n",
       "      <td>4</td>\n",
       "      <td>2</td>\n",
       "      <td>Tuesday</td>\n",
       "    </tr>\n",
       "    <tr>\n",
       "      <th>2</th>\n",
       "      <td>4.304968e+09</td>\n",
       "      <td>2017-03-16</td>\n",
       "      <td>19</td>\n",
       "      <td>2017</td>\n",
       "      <td>3</td>\n",
       "      <td>16</td>\n",
       "      <td>Thursday</td>\n",
       "    </tr>\n",
       "    <tr>\n",
       "      <th>3</th>\n",
       "      <td>4.295311e+09</td>\n",
       "      <td>2016-10-27</td>\n",
       "      <td>13</td>\n",
       "      <td>2016</td>\n",
       "      <td>10</td>\n",
       "      <td>27</td>\n",
       "      <td>Thursday</td>\n",
       "    </tr>\n",
       "    <tr>\n",
       "      <th>4</th>\n",
       "      <td>4.278878e+09</td>\n",
       "      <td>2016-03-18</td>\n",
       "      <td>23</td>\n",
       "      <td>2016</td>\n",
       "      <td>3</td>\n",
       "      <td>18</td>\n",
       "      <td>Friday</td>\n",
       "    </tr>\n",
       "  </tbody>\n",
       "</table>\n",
       "</div>"
      ],
      "text/plain": [
       "   Ticket number Issue Date  Issue time  Year  Month  Date day_of_week\n",
       "0   4.297601e+09 2016-11-06           7  2016     11     6      Sunday\n",
       "1   4.351911e+09 2019-04-02          18  2019      4     2     Tuesday\n",
       "2   4.304968e+09 2017-03-16          19  2017      3    16    Thursday\n",
       "3   4.295311e+09 2016-10-27          13  2016     10    27    Thursday\n",
       "4   4.278878e+09 2016-03-18          23  2016      3    18      Friday"
      ]
     },
     "execution_count": 8,
     "metadata": {},
     "output_type": "execute_result"
    }
   ],
   "source": [
    "# Adding new necessary columns to dataframe\n",
    "Date_time_df['Issue Date'] = pd.to_datetime(Date_time_df['Issue Date'], dayfirst=True)\n",
    "Date_time_df['Year']= Date_time_df['Issue Date'].dt.year\n",
    "Date_time_df['Month']= Date_time_df['Issue Date'].dt.month\n",
    "Date_time_df['Date']= Date_time_df['Issue Date'].dt.day\n",
    "Date_time_df['day_of_week'] =  Date_time_df['Issue Date'].dt.weekday_name\n",
    "\n",
    "Date_time_df.head()"
   ]
  },
  {
   "cell_type": "markdown",
   "metadata": {},
   "source": [
    "#### Yearly Citations analysis\n"
   ]
  },
  {
   "cell_type": "code",
   "execution_count": 9,
   "metadata": {},
   "outputs": [
    {
     "name": "stdout",
     "output_type": "stream",
     "text": [
      "   Issued Year  Citations Count\n",
      "0         2010                2\n",
      "1         2014              197\n",
      "2         2015            10872\n",
      "3         2016            11094\n",
      "4         2017            11217\n",
      "5         2018             9904\n",
      "6         2019             3782\n"
     ]
    },
    {
     "data": {
      "image/png": "[encoded data removed]",
      "text/plain": [
       "<Figure size 720x576 with 1 Axes>"
      ]
     },
     "metadata": {
      "needs_background": "light"
     },
     "output_type": "display_data"
    }
   ],
   "source": [
    "# Calculating yearly issued citations count by grouping Year column to comapre and analyze Yearly citations.\n",
    "Yearlygrp=Date_time_df.groupby(\"Year\")\n",
    "yearlycount=Yearlygrp.count()\n",
    "Yearly_Citations_DF=pd.DataFrame(data=yearlycount,index=None).reset_index()\n",
    "Yearly_Citations_DF=Yearly_Citations_DF.rename(columns={\"Year\":\"Issued Year\",\"Ticket number\":\"Citations Count\"})\n",
    "Yearly_Citations_DF=Yearly_Citations_DF[[\"Issued Year\",\"Citations Count\"]]\n",
    "print(Yearly_Citations_DF)\n",
    "\n",
    "#ploting the no of citationas given per year\n",
    "YrlyChart=Yearly_Citations_DF.plot(kind='bar',x='Issued Year',y=\"Citations Count\", title = \"Total citations per Year \",\n",
    "                                 width = 0.75,figsize = (10,8),rot = 30,alpha = 0.75,colormap=\"plasma\")\n",
    "\n",
    "YrlyChart.set_xlabel(\"Issued Year\")\n",
    "YrlyChart.set_ylabel(\"Citations Count\")\n",
    "plt.savefig(\"../Images/Total_citations_Year.png\")\n",
    "plt.show()\n"
   ]
  },
  {
   "cell_type": "markdown",
   "metadata": {},
   "source": [
    "#### Monthly Citations Data analysis"
   ]
  },
  {
   "cell_type": "code",
   "execution_count": 10,
   "metadata": {},
   "outputs": [
    {
     "name": "stdout",
     "output_type": "stream",
     "text": [
      "    Issued Month  Citations Count\n",
      "0              1             4516\n",
      "1              2             4227\n",
      "2              3             4732\n",
      "3              4             4525\n",
      "4              5             4424\n",
      "5              6             3715\n",
      "6              7             3503\n",
      "7              8             3729\n",
      "8              9             3374\n",
      "9             10             3538\n",
      "10            11             3267\n",
      "11            12             3518\n"
     ]
    },
    {
     "data": {
      "image/png": "[encoded data removed]",
      "text/plain": [
       "<Figure size 720x360 with 1 Axes>"
      ]
     },
     "metadata": {
      "needs_background": "light"
     },
     "output_type": "display_data"
    }
   ],
   "source": [
    "# # Calculating Monthly issued citations count by grouping Month column to comapre and analyze Monthly citations.\n",
    "Monthlygrp=Date_time_df.groupby(\"Month\")\n",
    "Monthlycount=Monthlygrp.count()\n",
    "Monthly_Citations_DF=pd.DataFrame(data=Monthlycount,index=None).reset_index()\n",
    "Monthly_Citations_DF=Monthly_Citations_DF.rename(columns={\"Month\":\"Issued Month\",\"Ticket number\":\"Citations Count\"})\n",
    "Monthly_Citations_DF=Monthly_Citations_DF[[\"Issued Month\",\"Citations Count\"]]\n",
    "print(Monthly_Citations_DF)\n",
    "Monthly_Citations_DF['Month'] = Monthly_Citations_DF['Issued Month'].apply(lambda x: calendar.month_name[x])\n",
    "\n",
    "#ploting the no of citationas given per Month\n",
    "monthlyChart=Monthly_Citations_DF.plot(kind='bar',x='Month',y=\"Citations Count\", title = \"Total citations per Month \",\n",
    "                                 width = 0.75,figsize = (10,5),rot = 30,alpha = 0.75,colormap=\"gist_rainbow\")\n",
    "\n",
    "monthlyChart.set_xlabel(\"Issued Month\")\n",
    "monthlyChart.set_ylabel(\"Citations Count\")\n",
    "plt.savefig(\"../Images/Total_citations_Month.png\")\n",
    "plt.show()\n"
   ]
  },
  {
   "cell_type": "markdown",
   "metadata": {},
   "source": [
    "#### Daily issued Citation count analysis \n"
   ]
  },
  {
   "cell_type": "code",
   "execution_count": 11,
   "metadata": {},
   "outputs": [
    {
     "name": "stdout",
     "output_type": "stream",
     "text": [
      "     Weekday  Citations Count\n",
      "3     Sunday             2414\n",
      "2   Saturday             2629\n",
      "0     Friday             7628\n",
      "1     Monday             7672\n",
      "6  Wednesday             8683\n",
      "4   Thursday             8854\n",
      "5    Tuesday             9188\n"
     ]
    },
    {
     "data": {
      "image/png": "[encoded data removed]",
      "text/plain": [
       "<Figure size 720x360 with 1 Axes>"
      ]
     },
     "metadata": {
      "needs_background": "light"
     },
     "output_type": "display_data"
    }
   ],
   "source": [
    "# Calculating daily issued citations count by grouping Day Of week column to comapre and analyze Daily citations.\n",
    "Dailygrp=Date_time_df.groupby(\"day_of_week\")\n",
    "Dailycount=Dailygrp.count()\n",
    "Daily_Citations_DF=pd.DataFrame(data=Dailycount,index=None).reset_index()\n",
    "Daily_Citations_DF=Daily_Citations_DF.rename(columns={\"day_of_week\":\"Weekday\",\"Ticket number\":\"Citations Count\"})\n",
    "Daily_Citations_DF=Daily_Citations_DF[[\"Weekday\",\"Citations Count\"]]\n",
    "Daily_Citations_DF.sort_values(by=\"Citations Count\",inplace=True)\n",
    "print(Daily_Citations_DF)\n",
    "\n",
    "#ploting the no of citationas given per Month\n",
    "dailyChart=Daily_Citations_DF.plot(kind='bar',x='Weekday',y=\"Citations Count\", title = \"Total citations per Day \",\n",
    "                                width = 0.75,figsize = (10,5),rot = 30,alpha = 0.75, color=['red', 'red', 'blue','blue','blue', 'blue', 'blue'])\n",
    "\n",
    "\n",
    "dailyChart.set_xlabel(\"Citations Issued on Weekday\")\n",
    "dailyChart.set_ylabel(\"Citations Count\")\n",
    "plt.savefig(\"../Images/Total_citations_Week.png\")\n",
    "plt.show()\n"
   ]
  },
  {
   "cell_type": "markdown",
   "metadata": {},
   "source": [
    "#### Hourly Citations analysis"
   ]
  },
  {
   "cell_type": "code",
   "execution_count": 14,
   "metadata": {},
   "outputs": [
    {
     "name": "stdout",
     "output_type": "stream",
     "text": [
      "    Hour  Citations Count\n",
      "0      0              480\n",
      "1      1              953\n",
      "2      2              852\n",
      "3      3              564\n",
      "4      4              518\n",
      "5      5              307\n",
      "6      6              635\n",
      "7      7             1029\n",
      "8      8             5793\n",
      "9      9             3004\n",
      "10    10             5698\n",
      "11    11             3996\n",
      "12    12             5940\n",
      "13    13             3011\n",
      "14    14             2242\n",
      "15    15             1633\n",
      "16    16             2497\n",
      "17    17             1743\n",
      "18    18             1731\n",
      "19    19             1516\n",
      "20    20              869\n",
      "21    21              735\n",
      "22    22              801\n",
      "23    23              521\n"
     ]
    },
    {
     "data": {
      "image/png": "[encoded data removed]",
      "text/plain": [
       "<Figure size 720x360 with 1 Axes>"
      ]
     },
     "metadata": {
      "needs_background": "light"
     },
     "output_type": "display_data"
    }
   ],
   "source": [
    "## Calculating hourly issued citations count by grouping IssueTime column to comapre and analyze hourly citations.\n",
    "hourlygrp=Date_time_df.groupby(\"Issue time\")\n",
    "hourlycount=hourlygrp.count()\n",
    "Hourly_Citations_DF=pd.DataFrame(data=hourlycount,index=None).reset_index()\n",
    "Hourly_Citations_DF=Hourly_Citations_DF.rename(columns={\"Issue time\":\"Hour\",\"Ticket number\":\"Citations Count\"})\n",
    "Hourly_Citations_DF=Hourly_Citations_DF[[\"Hour\",\"Citations Count\"]]\n",
    "Hourly_Citations_DF.sort_values(by=\"Hour\",inplace=True)\n",
    "print(Hourly_Citations_DF)\n",
    "\n",
    "#ploting the no of citationas given per Month\n",
    "hourlyChart=Hourly_Citations_DF.plot(kind='bar',x='Hour',y=\"Citations Count\", title = \"Total citations per hour \",\n",
    "                                width = 0.75,figsize = (10,5),rot = 30,alpha = 0.75,colormap=\"gist_rainbow\" )\n",
    "\n",
    "\n",
    "hourlyChart.set_xlabel(\"Citations Issued on Weekday\")\n",
    "hourlyChart.set_ylabel(\"Citations Count\")\n",
    "plt.savefig(\"../Images/Total_citations_hour.png\")\n",
    "plt.show()\n"
   ]
  },
  {
   "cell_type": "markdown",
   "metadata": {},
   "source": [
    "\n",
    "#### Citations Issued on Holiday"
   ]
  },
  {
   "cell_type": "code",
   "execution_count": 15,
   "metadata": {},
   "outputs": [
    {
     "name": "stdout",
     "output_type": "stream",
     "text": [
      "6724.0\n",
      "27.9\n"
     ]
    }
   ],
   "source": [
    "#Get the holidays from the Date column\n",
    "us_holidays=holidays.US()\n",
    "Date_time_df['Issue Date'] = pd.to_datetime(Date_time_df['Issue Date'], dayfirst=True)\n",
    "Date_time_df[\"Holiday\"]=Date_time_df['Issue Date'].map(us_holidays.get)\n",
    "\n",
    "\n",
    "Holidaycount=Date_time_df.groupby([\"Holiday\"])['Ticket number'].count()\n",
    "Holiday_Citations_DF=pd.DataFrame(data=Holidaycount,index=None).reset_index()\n",
    "Holiday_Citations_DF=Holiday_Citations_DF.rename(columns={\"Holidaycount\":\"Holiday\",\"Ticket number\":\"Citations Count\"})\n",
    "Holiday_Citations_DF=Holiday_Citations_DF[[\"Holiday\",\"Citations Count\"]]\n",
    "\n",
    "# Combining similar holidays together\n",
    "Holiday_Citations_DF = Holiday_Citations_DF.replace(\n",
    "    {\"Christmas Day (Observed)\": \"Christmas Day\", \"Independence Day (Observed)\": \"Independence Day\",\n",
    "     \"New Year's Day (Observed)\":\"New Year's Day\",\"Veterans Day (Observed)\":\"Veterans Day\"})\n",
    "Holidaycount=Holiday_Citations_DF.groupby(\"Holiday\").sum()\n",
    "Holiday_Citations_DF=pd.DataFrame(data=Holidaycount,index=None).reset_index()\n",
    "Holiday_Citations_DF=Holiday_Citations_DF.rename(columns={\"Holidaycount\":\"Holiday\",\"Ticket number\":\"Citations Count\"})\n",
    "Holiday_Citations_DF=Holiday_Citations_DF[[\"Holiday\",\"Citations Count\"]]\n",
    "AvgHoliday_citations=Holiday_Citations_DF[\"Citations Count\"].mean()\n",
    "AvgDaily_citations=Daily_Citations_DF[\"Citations Count\"].mean()\n",
    "print(AvgDaily_citations)\n",
    "print(AvgHoliday_citations)"
   ]
  },
  {
   "cell_type": "code",
   "execution_count": 16,
   "metadata": {},
   "outputs": [
    {
     "data": {
      "image/png": "[encoded data removed]",
      "text/plain": [
       "<Figure size 720x576 with 1 Axes>"
      ]
     },
     "metadata": {
      "needs_background": "light"
     },
     "output_type": "display_data"
    }
   ],
   "source": [
    "#ploting the no of citationas given per Holiday\n",
    "HolidayChart=Holiday_Citations_DF.plot(kind='barh',x='Holiday',y=\"Citations Count\", title = \"Total citations per Holiday \",\n",
    "                                width = 0.75,figsize = (10,8),rot =0,alpha = 0.75, color='green')\n",
    "HolidayChart.set_xlabel(\"Citations Issued on Holidays\")\n",
    "HolidayChart.set_ylabel(\"Citations Count\")\n",
    "plt.savefig(\"../Images/Total_citations_holiday.png\")\n",
    "plt.show()"
   ]
  },
  {
   "cell_type": "markdown",
   "metadata": {},
   "source": [
    "#### Total Number of Citations by the Hour and Day of the Week."
   ]
  },
  {
   "cell_type": "code",
   "execution_count": 18,
   "metadata": {},
   "outputs": [
    {
     "data": {
      "text/plain": [
       "Text(0.5, 1.0, 'Total Number of Citations by the Hour and Day of the Week.')"
      ]
     },
     "execution_count": 18,
     "metadata": {},
     "output_type": "execute_result"
    },
    {
     "data": {
      "image/png": "[encoded data removed]",
      "text/plain": [
       "<Figure size 720x720 with 2 Axes>"
      ]
     },
     "metadata": {
      "needs_background": "light"
     },
     "output_type": "display_data"
    }
   ],
   "source": [
    "daysofWeek=Date_time_df['day_of_week'].unique()\n",
    "timeOfdayDF=Date_time_df.groupby(['Issue time','day_of_week'])[\"Ticket number\"].count().reset_index()\n",
    "timeOfdayDF=timeOfdayDF.pivot('Issue time','day_of_week',\"Ticket number\")\n",
    "fig, ax = plt.subplots(figsize=(10,10))  \n",
    "sns.heatmap(timeOfdayDF[daysofWeek] , cmap=\"YlOrRd\")\n",
    "plt.title(\"Total Number of Citations by the Hour and Day of the Week.\")"
   ]
  },
  {
   "cell_type": "code",
   "execution_count": null,
   "metadata": {},
   "outputs": [],
   "source": []
  }
 ],
 "metadata": {
  "kernelspec": {
   "display_name": "Python [conda env:PythonData] *",
   "language": "python",
   "name": "conda-env-PythonData-py"
  },
  "language_info": {
   "codemirror_mode": {
    "name": "ipython",
    "version": 3
   },
   "file_extension": ".py",
   "mimetype": "text/x-python",
   "name": "python",
   "nbconvert_exporter": "python",
   "pygments_lexer": "ipython3",
   "version": "3.6.8"
  }
 },
 "nbformat": 4,
 "nbformat_minor": 2
}
