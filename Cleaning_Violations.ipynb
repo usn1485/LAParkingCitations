{
 "cells": [
  {
   "cell_type": "code",
   "execution_count": 1,
   "metadata": {},
   "outputs": [
    {
     "name": "stderr",
     "output_type": "stream",
     "text": [
      "C:\\Users\\brandon\\Anaconda3\\envs\\PythonData\\lib\\site-packages\\IPython\\core\\interactiveshell.py:3049: DtypeWarning: Columns (0,7) have mixed types. Specify dtype option on import or set low_memory=False.\n",
      "  interactivity=interactivity, compiler=compiler, result=result)\n"
     ]
    }
   ],
   "source": [
    "import pandas as pd\n",
    "import matplotlib.pyplot as plt\n",
    "import numpy as np\n",
    "\n",
    "\n",
    "csv_file = \"Resources/parking-citations.csv\"\n",
    "citations_df = pd.read_csv(csv_file)"
   ]
  },
  {
   "cell_type": "code",
   "execution_count": 2,
   "metadata": {},
   "outputs": [
    {
     "data": {
      "text/html": [
       "<div>\n",
       "<style scoped>\n",
       "    .dataframe tbody tr th:only-of-type {\n",
       "        vertical-align: middle;\n",
       "    }\n",
       "\n",
       "    .dataframe tbody tr th {\n",
       "        vertical-align: top;\n",
       "    }\n",
       "\n",
       "    .dataframe thead th {\n",
       "        text-align: right;\n",
       "    }\n",
       "</style>\n",
       "<table border=\"1\" class=\"dataframe\">\n",
       "  <thead>\n",
       "    <tr style=\"text-align: right;\">\n",
       "      <th></th>\n",
       "      <th>Ticket number</th>\n",
       "      <th>Issue Date</th>\n",
       "      <th>Issue time</th>\n",
       "      <th>Meter Id</th>\n",
       "      <th>Marked Time</th>\n",
       "      <th>RP State Plate</th>\n",
       "      <th>Plate Expiry Date</th>\n",
       "      <th>VIN</th>\n",
       "      <th>Make</th>\n",
       "      <th>Body Style</th>\n",
       "      <th>Color</th>\n",
       "      <th>Location</th>\n",
       "      <th>Route</th>\n",
       "      <th>Agency</th>\n",
       "      <th>Violation code</th>\n",
       "      <th>Violation Description</th>\n",
       "      <th>Fine amount</th>\n",
       "      <th>Latitude</th>\n",
       "      <th>Longitude</th>\n",
       "    </tr>\n",
       "  </thead>\n",
       "  <tbody>\n",
       "    <tr>\n",
       "      <th>0</th>\n",
       "      <td>1103341116</td>\n",
       "      <td>2015-12-21T00:00:00</td>\n",
       "      <td>1251.0</td>\n",
       "      <td>NaN</td>\n",
       "      <td>NaN</td>\n",
       "      <td>CA</td>\n",
       "      <td>200304.0</td>\n",
       "      <td>NaN</td>\n",
       "      <td>HOND</td>\n",
       "      <td>PA</td>\n",
       "      <td>GY</td>\n",
       "      <td>13147 WELBY WAY</td>\n",
       "      <td>01521</td>\n",
       "      <td>1.0</td>\n",
       "      <td>4000A1</td>\n",
       "      <td>NO EVIDENCE OF REG</td>\n",
       "      <td>50.0</td>\n",
       "      <td>99999.0</td>\n",
       "      <td>99999.0</td>\n",
       "    </tr>\n",
       "    <tr>\n",
       "      <th>1</th>\n",
       "      <td>1103700150</td>\n",
       "      <td>2015-12-21T00:00:00</td>\n",
       "      <td>1435.0</td>\n",
       "      <td>NaN</td>\n",
       "      <td>NaN</td>\n",
       "      <td>CA</td>\n",
       "      <td>201512.0</td>\n",
       "      <td>NaN</td>\n",
       "      <td>GMC</td>\n",
       "      <td>VN</td>\n",
       "      <td>WH</td>\n",
       "      <td>525 S MAIN ST</td>\n",
       "      <td>1C51</td>\n",
       "      <td>1.0</td>\n",
       "      <td>4000A1</td>\n",
       "      <td>NO EVIDENCE OF REG</td>\n",
       "      <td>50.0</td>\n",
       "      <td>99999.0</td>\n",
       "      <td>99999.0</td>\n",
       "    </tr>\n",
       "    <tr>\n",
       "      <th>2</th>\n",
       "      <td>1104803000</td>\n",
       "      <td>2015-12-21T00:00:00</td>\n",
       "      <td>2055.0</td>\n",
       "      <td>NaN</td>\n",
       "      <td>NaN</td>\n",
       "      <td>CA</td>\n",
       "      <td>201503.0</td>\n",
       "      <td>NaN</td>\n",
       "      <td>NISS</td>\n",
       "      <td>PA</td>\n",
       "      <td>BK</td>\n",
       "      <td>200 WORLD WAY</td>\n",
       "      <td>2R2</td>\n",
       "      <td>2.0</td>\n",
       "      <td>8939</td>\n",
       "      <td>WHITE CURB</td>\n",
       "      <td>58.0</td>\n",
       "      <td>6439997.9</td>\n",
       "      <td>1802686.4</td>\n",
       "    </tr>\n",
       "    <tr>\n",
       "      <th>3</th>\n",
       "      <td>1104820732</td>\n",
       "      <td>2015-12-26T00:00:00</td>\n",
       "      <td>1515.0</td>\n",
       "      <td>NaN</td>\n",
       "      <td>NaN</td>\n",
       "      <td>CA</td>\n",
       "      <td>NaN</td>\n",
       "      <td>NaN</td>\n",
       "      <td>ACUR</td>\n",
       "      <td>PA</td>\n",
       "      <td>WH</td>\n",
       "      <td>100 WORLD WAY</td>\n",
       "      <td>2F11</td>\n",
       "      <td>2.0</td>\n",
       "      <td>000</td>\n",
       "      <td>17104h</td>\n",
       "      <td>NaN</td>\n",
       "      <td>6440041.1</td>\n",
       "      <td>1802686.2</td>\n",
       "    </tr>\n",
       "    <tr>\n",
       "      <th>4</th>\n",
       "      <td>1105461453</td>\n",
       "      <td>2015-09-15T00:00:00</td>\n",
       "      <td>115.0</td>\n",
       "      <td>NaN</td>\n",
       "      <td>NaN</td>\n",
       "      <td>CA</td>\n",
       "      <td>200316.0</td>\n",
       "      <td>NaN</td>\n",
       "      <td>CHEV</td>\n",
       "      <td>PA</td>\n",
       "      <td>BK</td>\n",
       "      <td>GEORGIA ST/OLYMPIC</td>\n",
       "      <td>1FB70</td>\n",
       "      <td>1.0</td>\n",
       "      <td>8069A</td>\n",
       "      <td>NO STOPPING/STANDING</td>\n",
       "      <td>93.0</td>\n",
       "      <td>99999.0</td>\n",
       "      <td>99999.0</td>\n",
       "    </tr>\n",
       "  </tbody>\n",
       "</table>\n",
       "</div>"
      ],
      "text/plain": [
       "  Ticket number           Issue Date  Issue time Meter Id  Marked Time  \\\n",
       "0    1103341116  2015-12-21T00:00:00      1251.0      NaN          NaN   \n",
       "1    1103700150  2015-12-21T00:00:00      1435.0      NaN          NaN   \n",
       "2    1104803000  2015-12-21T00:00:00      2055.0      NaN          NaN   \n",
       "3    1104820732  2015-12-26T00:00:00      1515.0      NaN          NaN   \n",
       "4    1105461453  2015-09-15T00:00:00       115.0      NaN          NaN   \n",
       "\n",
       "  RP State Plate  Plate Expiry Date  VIN  Make Body Style Color  \\\n",
       "0             CA           200304.0  NaN  HOND         PA    GY   \n",
       "1             CA           201512.0  NaN   GMC         VN    WH   \n",
       "2             CA           201503.0  NaN  NISS         PA    BK   \n",
       "3             CA                NaN  NaN  ACUR         PA    WH   \n",
       "4             CA           200316.0  NaN  CHEV         PA    BK   \n",
       "\n",
       "             Location  Route  Agency Violation code Violation Description  \\\n",
       "0     13147 WELBY WAY  01521     1.0         4000A1    NO EVIDENCE OF REG   \n",
       "1       525 S MAIN ST   1C51     1.0         4000A1    NO EVIDENCE OF REG   \n",
       "2       200 WORLD WAY    2R2     2.0           8939            WHITE CURB   \n",
       "3       100 WORLD WAY   2F11     2.0            000                17104h   \n",
       "4  GEORGIA ST/OLYMPIC  1FB70     1.0          8069A  NO STOPPING/STANDING   \n",
       "\n",
       "   Fine amount   Latitude  Longitude  \n",
       "0         50.0    99999.0    99999.0  \n",
       "1         50.0    99999.0    99999.0  \n",
       "2         58.0  6439997.9  1802686.4  \n",
       "3          NaN  6440041.1  1802686.2  \n",
       "4         93.0    99999.0    99999.0  "
      ]
     },
     "execution_count": 2,
     "metadata": {},
     "output_type": "execute_result"
    }
   ],
   "source": [
    "citations_df.head()"
   ]
  },
  {
   "cell_type": "code",
   "execution_count": 3,
   "metadata": {},
   "outputs": [],
   "source": [
    "# there were singular instances of violation descriptions that were listed as a sequence of letters and digits\n",
    "# create a list of acceptable, legible, understandable descriptions \n",
    "\n",
    "vd_list = citations_df[\"Violation Description\"].dropna().unique().tolist()\n",
    "descript = []\n",
    "\n",
    "for _strng in vd_list:\n",
    "    _string = str(_strng)\n",
    "    if(_string[0].isdigit()):\n",
    "        if(' ' in _string):\n",
    "            descript.append(_string)\n",
    "    else :\n",
    "        descript.append(_strng)\n",
    "        "
   ]
  },
  {
   "cell_type": "code",
   "execution_count": 4,
   "metadata": {},
   "outputs": [],
   "source": [
    "descript.sort() # sort in alphabetical order for ease of reading"
   ]
  },
  {
   "cell_type": "code",
   "execution_count": 5,
   "metadata": {},
   "outputs": [],
   "source": [
    "trimmed_df = citations_df[citations_df[\"Violation Description\"].isin(descript)] # trim dataframe down to usuable data"
   ]
  },
  {
   "cell_type": "code",
   "execution_count": 6,
   "metadata": {},
   "outputs": [],
   "source": [
    "fines = trimmed_df['Fine amount'].dropna().unique().tolist()"
   ]
  },
  {
   "cell_type": "code",
   "execution_count": 7,
   "metadata": {},
   "outputs": [],
   "source": [
    "trimmed_df = trimmed_df[trimmed_df['Fine amount'].isin(fines)]"
   ]
  },
  {
   "cell_type": "code",
   "execution_count": 8,
   "metadata": {},
   "outputs": [],
   "source": [
    "# assign integer to Fine Amount column most fines were whole numbers\n",
    "trimmed_df['Fine amount'] = trimmed_df['Fine amount'].astype('int64')"
   ]
  },
  {
   "cell_type": "code",
   "execution_count": 9,
   "metadata": {},
   "outputs": [],
   "source": [
    "#refining violation description by renaming similar offenses for a more uniform consistent description\n",
    "#results in ~143 different violations\n",
    "\n",
    "trimmed_df['Violation Description'] = trimmed_df['Violation Description'].replace(\n",
    "{  \n",
    "  'ABAND VEH/HIGHWAY': 'ABANDONED VEHICLE',\n",
    "  'ABAND VEH/PUB/PRIV': 'ABANDONED VEHICLE',\n",
    "  'BLK BIKE PATH OR LAN': 'BLK BIKE PATH OR LANE',\n",
    "  'BLK INT PROHIB': 'BLOCKING INTERSECTION',  \n",
    "  'BLOCKING INTERSECTIO': 'BLOCKING INTERSECTION',\n",
    "  'WITHIN INTERSECTION': 'BLOCKING INTERSECTION',\n",
    "  'COMM VEH OVER TIME L':'COMM VEH OVER TIME LIMIT',\n",
    "  'COMVEH RES/OV TM B-2':'COMM VEH OVER TIME LIMIT',\n",
    "  'COMVEH RES/OV TM C-3':'COMM VEH OVER TIME LIMIT',\n",
    "  'COMVEH RES/OV TM LMT':'COMM VEH OVER TIME LIMIT',\n",
    "  'DEF WINDSHIELD': 'DEFECTIVE WIPERS',\n",
    "  'DEFECT WIPERS' : 'DEFECTIVE WIPERS',\n",
    "  'DISABLED PARKING/BOU': 'DISABLED PARKING/BOUNDARIES',\n",
    "  'DISABLED PARKING/CRO': 'DISABLED PARKING/CROSS HATCH',\n",
    "  'DISABLED PARKING/NO': 'DISABLED PARKING/NO DP ID',\n",
    "  'DISABLED PARKING/OBS': 'DISABLED PARKING/OBSTRUCT ACCESS',\n",
    "  'HANDICAP/CROSS HATCH':'DISABLED PARKING/CROSS HATCH',\n",
    "  'HANDICAP/NO DP ID':'DISABLED PARKING/NO DP ID',\n",
    "  'HANDICAP/ON LINE' :'DISABLED PARKING/BOUNDARIES',\n",
    "  'HANDICPD/BLOCKING':'DISABLED PARKING/OBSTRUCT ACCESS',\n",
    "  'BLOCK HANDICAP ACCES':'DISABLED PARKING/OBSTRUCT ACCESS',\n",
    "  'DOUBLE PARK': 'DOUBLE PARKING',\n",
    "  'EXCEED 72 HOURS': 'EXCEEDED TIME LIMIT',\n",
    "  'EXCEED 72HRS-ST' : 'EXCEEDED TIME LIMIT',\n",
    "  'EXCEED TIME LMT': 'EXCEEDED TIME LIMIT',\n",
    "  'NO STOP/STAND AM': 'NO STOPPING/STANDING', \n",
    "  'NO STOP/STAND PM': 'NO STOPPING/STANDING',\n",
    "  'STOP/STAND PROHB': 'NO STOPPING/STANDING',\n",
    "  'STOP/STAND PROHIBIT': 'NO STOPPING/STANDING',\n",
    "  'NO STOP/STAND': 'NO STOPPING/STANDING',\n",
    "  'NO STOP/STANDING': 'NO STOPPING/STANDING',\n",
    "  'TM LMT EXCEEDED': 'EXCEEDED TIME LIMIT',\n",
    "  'TIME LIMIT/CITY LOT': 'EXCEEDED TIME LIMIT',\n",
    "  'PARKED OVER TIME LIM': 'EXCEEDED TIME LIMIT',\n",
    "  'PARKED OVER TIME LIMIT': 'EXCEEDED TIME LIMIT',\n",
    "  'PK BYND TM LMTS': 'EXCEEDED TIME LIMIT',\n",
    "  'FAIL DEP COIN': 'NO COIN DEP IN METER',\n",
    "  'PREF PARKING': 'PREFERENTIAL PARKING',\n",
    "  'NO PARK STRT CLEAN': 'NO PARK/STREET CLEAN',\n",
    "  'CLEANING VEH/STREET': 'NO PARK/STREET CLEAN',\n",
    "  'METER EXP.':  'METER EXPIRED',\n",
    "  'NO PARKING BETWEEN P': 'NO PARKING BETWEEN POSTED HOURS',\n",
    "  'NO PK BET 1-3AM' : 'NO PARKING BETWEEEN POSTED HOURS',\n",
    "  'NO STOPPING/ANTI-GRI':'NO STOPPING/ANTI-GRIDLOCK ZONE',\n",
    "  'PARK IN GRID LOCK ZN' : 'NO STOPPING/ANTI-GRIDLOCK ZONE',\n",
    "  'LOAD/UNLOAD ONLY' : 'LOADING ZONES',\n",
    "  'OFF STR/OVERTIME/MTR' : 'OFF STREET/OVERTIME',\n",
    "  'OVERSIZED VEHICLE PA' : 'OVERSIZED VEHICLE PARKING',\n",
    "  'OVERSIZED VEHICLE PARKING TOPHAM ST' : 'OVERSIZED VEHICLE PARKING',\n",
    "  'OVNIGHT PRK W/OUT PE' : 'OVERNIGHT PARKING',\n",
    "  'OVNIGHT PRK W/OUT PE' : 'RED FLAG DAY',\n",
    "  'PK NR FIRE HYDR' : 'FIRE HYDRANT',\n",
    "  'PARK RESTRCD': 'PK IN PROH AREA',\n",
    "  'PARK-PSTD AREAS': 'PK IN PROH AREA',\n",
    "  'PARKED IN BUS ZONE': 'PK IN PROH AREA',\n",
    "  'PARKED IN CROSSWALK':'PK IN PROH AREA',\n",
    "  'PARKED IN ELEC VEHICLE SPACE' : 'PK IN PROH AREA',\n",
    "  'PARKED IN FIRE LANE': 'PK IN PROH AREA',\n",
    "  'PARKED IN PARKWAY': 'PK IN PROH AREA',\n",
    "  'PARKED ON BRIDGE': 'PK IN PROH AREA',\n",
    "  'PARKED ON SIDEWALK': 'PK IN PROH AREA',\n",
    "  'PARKING-SNOW AREA': 'PK IN PROH AREA',\n",
    "  'PARKING/FRONT YARD': 'PK IN PROH AREA',\n",
    "  'PARKING/FRONT YARD 1' : 'PK IN PROH AREA',\n",
    "  'PARKING/FRONT YARD 2': 'PK IN PROH AREA',\n",
    "  'PARKING/FRONT YARD 3' : 'PK IN PROH AREA',\n",
    "  'PARKNG IN TUNNEL' : 'PK IN PROH AREA',\n",
    "  'PK ON PRIV ST' : 'PK IN PROH AREA',\n",
    "  'PK OTSD PSTD AR' : 'PK IN PROH AREA',\n",
    "  'PK OUTSD PK STL' : 'PK IN PROH AREA',\n",
    "  'PK OUTSD SPACE' : 'PK IN PROH AREA',\n",
    "  'PRKG PUBL GRNDS' : 'PK IN PROH AREA',\n",
    "  'PK OVR 2 SPACES' : 'PK OVR PNTD LNS',\n",
    "  'SIGN POSTED - NO PAR' : 'NO PARKING',\n",
    "  'SIGN PSTD-NO PK' : 'NO PARKING',\n",
    "  'SIGN POSTED - NO PARKING' : 'NO PARKING',\n",
    "  'YELLOW CURB' : 'YELLOW ZONE',\n",
    "  'WHITE CURB' : 'WHITE ZONE',\n",
    "  'RED CURB' : 'RED ZONE',\n",
    "  'PKD IN/ON PARKWAY' : 'PK IN PROH AREA',\n",
    "  'RESTRCTD ZONES': 'RESTRICTED ZONE',\n",
    "  'RESTRICTED TAXI ZONE': 'RESTRICTED ZONE',\n",
    "  'STNDNG IN ALLEY' : 'STANDING IN ALLEY',\n",
    "  'STANDNG IN ALLEY' : 'STANDING IN ALLEY'\n",
    "})"
   ]
  },
  {
   "cell_type": "code",
   "execution_count": 10,
   "metadata": {},
   "outputs": [],
   "source": [
    "groupedby = trimmed_df.groupby('Violation Description') #group by violation description"
   ]
  },
  {
   "cell_type": "code",
   "execution_count": 49,
   "metadata": {},
   "outputs": [
    {
     "data": {
      "image/png": "[encoded data removed]",
      "text/plain": [
       "<Figure size 1440x720 with 1 Axes>"
      ]
     },
     "metadata": {
      "needs_background": "light"
     },
     "output_type": "display_data"
    }
   ],
   "source": [
    "# grab the n most expensive violations and chart them via bar chart\n",
    "\n",
    "avg_fine = groupedby.mean()['Fine amount'].nlargest(n=10, keep='first')\n",
    "avg_fine.plot.bar(figsize=(20,10))\n",
    "plt.title(\"10 MOST EXPENSIVE TICKETS\")\n",
    "\n",
    "plt.ylabel(\"Fine Amount\")\n",
    "plt.xlabel(\"Violation\")\n",
    "plt.xticks(rotation=90)\n",
    "\n",
    "plt.show()\n"
   ]
  },
  {
   "cell_type": "code",
   "execution_count": 50,
   "metadata": {},
   "outputs": [
    {
     "data": {
      "text/plain": [
       "Violation Description\n",
       "3 FT. SIDEWALK RAMP             363.000000\n",
       "DISABLED PARKING/CROSS HATCH    363.000000\n",
       "DP- RO NOT PRESENT              363.000000\n",
       "DP-ALTERED                      363.000000\n",
       "DP-BLKNG ACCESS RAMP            363.000000\n",
       "DP-REFUSE ID                    363.000000\n",
       "DP-SUBPLATE                     363.000000\n",
       "MISUSE/DP PRIVILEGE             363.000000\n",
       "DISABLED PARKING/BOUNDARIES     362.990917\n",
       "DISABLED PARKING/NO DP ID       362.982103\n",
       "Name: Fine amount, dtype: float64"
      ]
     },
     "execution_count": 50,
     "metadata": {},
     "output_type": "execute_result"
    }
   ],
   "source": [
    "avg_fine"
   ]
  },
  {
   "cell_type": "code",
   "execution_count": 31,
   "metadata": {},
   "outputs": [
    {
     "data": {
      "text/plain": [
       "Violation Description\n",
       "VIOL EMER RULES         1\n",
       "PARKING UNDESIGATED     1\n",
       "BALD TIRES              1\n",
       "PRK FLOOD CNTL CHANL    1\n",
       "CATERING/CENTER CITY    1\n",
       "TOW TRUCK/UNAUTH        1\n",
       "PARK NEAR EMERG VEH     1\n",
       "WRG SD-DUAL RWY         1\n",
       "PK/PARALL/CURB          1\n",
       "METER OFFENSE           1\n",
       "BLK RAIL PROHIB         2\n",
       "DISABLED PERSON         2\n",
       "30FT W/IN INTSC         2\n",
       "SPEC. PLATE NOT DISP    2\n",
       "OFF STR MTR/NO COIN     2\n",
       "REAR/SD MIR RQD         2\n",
       "PSGR LOADING ZN         2\n",
       "CLOSED MT FIRE RD       2\n",
       "TRAILER NOT ATTACHED    3\n",
       "HAZARDOUS AREA          3\n",
       "FUEL CAP REQ            3\n",
       "CATERING/W/I 200 FT     3\n",
       "TEMPORARY NO PARKING    3\n",
       "RGSTR CARD RQD          4\n",
       "VETS EXEMPTION          5\n",
       "Name: Fine amount, dtype: int64"
      ]
     },
     "execution_count": 31,
     "metadata": {},
     "output_type": "execute_result"
    }
   ],
   "source": [
    "total_instances = groupedby.count()['Fine amount']\n",
    "total_instances.sort_values(inplace=False, ascending=False).nsmallest(n=25, keep='first')"
   ]
  },
  {
   "cell_type": "code",
   "execution_count": 22,
   "metadata": {},
   "outputs": [
    {
     "data": {
      "image/png": "[encoded data removed]",
      "text/plain": [
       "<Figure size 1440x504 with 1 Axes>"
      ]
     },
     "metadata": {},
     "output_type": "display_data"
    },
    {
     "data": {
      "text/plain": [
       "Violation Description\n",
       "NO PARK/STREET CLEAN              199360052\n",
       "METER EXPIRED                     103542349\n",
       "RED ZONE                           66347717\n",
       "PREFERENTIAL PARKING               45131732\n",
       "NO STOPPING/STANDING               36716815\n",
       "NO PARKING                         30670547\n",
       "EXCEEDED TIME LIMIT                23928540\n",
       "NO STOPPING/ANTI-GRIDLOCK ZONE     17140880\n",
       "DISABLED PARKING/NO DP ID          15150510\n",
       "DISPLAY OF TABS                    14443448\n",
       "Name: Fine amount, dtype: int64"
      ]
     },
     "execution_count": 22,
     "metadata": {},
     "output_type": "execute_result"
    }
   ],
   "source": [
    "#display 10 highest totals for fines collected on violations\n",
    "sum_fines = groupedby.sum()['Fine amount'].nlargest(n=10, keep='first')\n",
    "sum_fines.plot.pie(figsize=(20,7))\n",
    "plt.show()\n",
    "sum_fines"
   ]
  },
  {
   "cell_type": "code",
   "execution_count": null,
   "metadata": {},
   "outputs": [],
   "source": []
  }
 ],
 "metadata": {
  "kernelspec": {
   "display_name": "Python 3",
   "language": "python",
   "name": "python3"
  },
  "language_info": {
   "codemirror_mode": {
    "name": "ipython",
    "version": 3
   },
   "file_extension": ".py",
   "mimetype": "text/x-python",
   "name": "python",
   "nbconvert_exporter": "python",
   "pygments_lexer": "ipython3",
   "version": "3.6.8"
  }
 },
 "nbformat": 4,
 "nbformat_minor": 2
}
