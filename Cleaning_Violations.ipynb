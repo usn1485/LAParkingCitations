{
 "cells": [
  {
   "cell_type": "code",
   "execution_count": null,
   "metadata": {},
   "outputs": [],
   "source": [
    "# Brandon Coleman\n",
    "# Project 1\n",
    "# 6 / 6 / 19\n",
    "#Violations and Fines"
   ]
  },
  {
   "cell_type": "code",
   "execution_count": 1,
   "metadata": {},
   "outputs": [],
   "source": [
    "import pandas as pd\n",
    "import matplotlib.pyplot as plt\n",
    "import numpy as np\n",
    "import scipy.stats as stats\n",
    "\n",
    "csv_file = \"Resources/parking-citations.csv\"\n",
    "citations_df = pd.read_csv(csv_file, low_memory=False)"
   ]
  },
  {
   "cell_type": "code",
   "execution_count": 2,
   "metadata": {},
   "outputs": [
    {
     "data": {
      "text/html": [
       "<div>\n",
       "<style scoped>\n",
       "    .dataframe tbody tr th:only-of-type {\n",
       "        vertical-align: middle;\n",
       "    }\n",
       "\n",
       "    .dataframe tbody tr th {\n",
       "        vertical-align: top;\n",
       "    }\n",
       "\n",
       "    .dataframe thead th {\n",
       "        text-align: right;\n",
       "    }\n",
       "</style>\n",
       "<table border=\"1\" class=\"dataframe\">\n",
       "  <thead>\n",
       "    <tr style=\"text-align: right;\">\n",
       "      <th></th>\n",
       "      <th>Ticket number</th>\n",
       "      <th>Issue Date</th>\n",
       "      <th>Issue time</th>\n",
       "      <th>Meter Id</th>\n",
       "      <th>Marked Time</th>\n",
       "      <th>RP State Plate</th>\n",
       "      <th>Plate Expiry Date</th>\n",
       "      <th>VIN</th>\n",
       "      <th>Make</th>\n",
       "      <th>Body Style</th>\n",
       "      <th>Color</th>\n",
       "      <th>Location</th>\n",
       "      <th>Route</th>\n",
       "      <th>Agency</th>\n",
       "      <th>Violation code</th>\n",
       "      <th>Violation Description</th>\n",
       "      <th>Fine amount</th>\n",
       "      <th>Latitude</th>\n",
       "      <th>Longitude</th>\n",
       "    </tr>\n",
       "  </thead>\n",
       "  <tbody>\n",
       "    <tr>\n",
       "      <th>0</th>\n",
       "      <td>1103341116</td>\n",
       "      <td>2015-12-21T00:00:00</td>\n",
       "      <td>1251.0</td>\n",
       "      <td>NaN</td>\n",
       "      <td>NaN</td>\n",
       "      <td>CA</td>\n",
       "      <td>200304.0</td>\n",
       "      <td>NaN</td>\n",
       "      <td>HOND</td>\n",
       "      <td>PA</td>\n",
       "      <td>GY</td>\n",
       "      <td>13147 WELBY WAY</td>\n",
       "      <td>01521</td>\n",
       "      <td>1.0</td>\n",
       "      <td>4000A1</td>\n",
       "      <td>NO EVIDENCE OF REG</td>\n",
       "      <td>50.0</td>\n",
       "      <td>99999.0</td>\n",
       "      <td>99999.0</td>\n",
       "    </tr>\n",
       "    <tr>\n",
       "      <th>1</th>\n",
       "      <td>1103700150</td>\n",
       "      <td>2015-12-21T00:00:00</td>\n",
       "      <td>1435.0</td>\n",
       "      <td>NaN</td>\n",
       "      <td>NaN</td>\n",
       "      <td>CA</td>\n",
       "      <td>201512.0</td>\n",
       "      <td>NaN</td>\n",
       "      <td>GMC</td>\n",
       "      <td>VN</td>\n",
       "      <td>WH</td>\n",
       "      <td>525 S MAIN ST</td>\n",
       "      <td>1C51</td>\n",
       "      <td>1.0</td>\n",
       "      <td>4000A1</td>\n",
       "      <td>NO EVIDENCE OF REG</td>\n",
       "      <td>50.0</td>\n",
       "      <td>99999.0</td>\n",
       "      <td>99999.0</td>\n",
       "    </tr>\n",
       "    <tr>\n",
       "      <th>2</th>\n",
       "      <td>1104803000</td>\n",
       "      <td>2015-12-21T00:00:00</td>\n",
       "      <td>2055.0</td>\n",
       "      <td>NaN</td>\n",
       "      <td>NaN</td>\n",
       "      <td>CA</td>\n",
       "      <td>201503.0</td>\n",
       "      <td>NaN</td>\n",
       "      <td>NISS</td>\n",
       "      <td>PA</td>\n",
       "      <td>BK</td>\n",
       "      <td>200 WORLD WAY</td>\n",
       "      <td>2R2</td>\n",
       "      <td>2.0</td>\n",
       "      <td>8939</td>\n",
       "      <td>WHITE CURB</td>\n",
       "      <td>58.0</td>\n",
       "      <td>6439997.9</td>\n",
       "      <td>1802686.4</td>\n",
       "    </tr>\n",
       "    <tr>\n",
       "      <th>3</th>\n",
       "      <td>1104820732</td>\n",
       "      <td>2015-12-26T00:00:00</td>\n",
       "      <td>1515.0</td>\n",
       "      <td>NaN</td>\n",
       "      <td>NaN</td>\n",
       "      <td>CA</td>\n",
       "      <td>NaN</td>\n",
       "      <td>NaN</td>\n",
       "      <td>ACUR</td>\n",
       "      <td>PA</td>\n",
       "      <td>WH</td>\n",
       "      <td>100 WORLD WAY</td>\n",
       "      <td>2F11</td>\n",
       "      <td>2.0</td>\n",
       "      <td>000</td>\n",
       "      <td>17104h</td>\n",
       "      <td>NaN</td>\n",
       "      <td>6440041.1</td>\n",
       "      <td>1802686.2</td>\n",
       "    </tr>\n",
       "    <tr>\n",
       "      <th>4</th>\n",
       "      <td>1105461453</td>\n",
       "      <td>2015-09-15T00:00:00</td>\n",
       "      <td>115.0</td>\n",
       "      <td>NaN</td>\n",
       "      <td>NaN</td>\n",
       "      <td>CA</td>\n",
       "      <td>200316.0</td>\n",
       "      <td>NaN</td>\n",
       "      <td>CHEV</td>\n",
       "      <td>PA</td>\n",
       "      <td>BK</td>\n",
       "      <td>GEORGIA ST/OLYMPIC</td>\n",
       "      <td>1FB70</td>\n",
       "      <td>1.0</td>\n",
       "      <td>8069A</td>\n",
       "      <td>NO STOPPING/STANDING</td>\n",
       "      <td>93.0</td>\n",
       "      <td>99999.0</td>\n",
       "      <td>99999.0</td>\n",
       "    </tr>\n",
       "  </tbody>\n",
       "</table>\n",
       "</div>"
      ],
      "text/plain": [
       "  Ticket number           Issue Date  Issue time Meter Id  Marked Time  \\\n",
       "0    1103341116  2015-12-21T00:00:00      1251.0      NaN          NaN   \n",
       "1    1103700150  2015-12-21T00:00:00      1435.0      NaN          NaN   \n",
       "2    1104803000  2015-12-21T00:00:00      2055.0      NaN          NaN   \n",
       "3    1104820732  2015-12-26T00:00:00      1515.0      NaN          NaN   \n",
       "4    1105461453  2015-09-15T00:00:00       115.0      NaN          NaN   \n",
       "\n",
       "  RP State Plate  Plate Expiry Date  VIN  Make Body Style Color  \\\n",
       "0             CA           200304.0  NaN  HOND         PA    GY   \n",
       "1             CA           201512.0  NaN   GMC         VN    WH   \n",
       "2             CA           201503.0  NaN  NISS         PA    BK   \n",
       "3             CA                NaN  NaN  ACUR         PA    WH   \n",
       "4             CA           200316.0  NaN  CHEV         PA    BK   \n",
       "\n",
       "             Location  Route  Agency Violation code Violation Description  \\\n",
       "0     13147 WELBY WAY  01521     1.0         4000A1    NO EVIDENCE OF REG   \n",
       "1       525 S MAIN ST   1C51     1.0         4000A1    NO EVIDENCE OF REG   \n",
       "2       200 WORLD WAY    2R2     2.0           8939            WHITE CURB   \n",
       "3       100 WORLD WAY   2F11     2.0            000                17104h   \n",
       "4  GEORGIA ST/OLYMPIC  1FB70     1.0          8069A  NO STOPPING/STANDING   \n",
       "\n",
       "   Fine amount   Latitude  Longitude  \n",
       "0         50.0    99999.0    99999.0  \n",
       "1         50.0    99999.0    99999.0  \n",
       "2         58.0  6439997.9  1802686.4  \n",
       "3          NaN  6440041.1  1802686.2  \n",
       "4         93.0    99999.0    99999.0  "
      ]
     },
     "execution_count": 2,
     "metadata": {},
     "output_type": "execute_result"
    }
   ],
   "source": [
    "citations_df.head()"
   ]
  },
  {
   "cell_type": "code",
   "execution_count": 317,
   "metadata": {},
   "outputs": [
    {
     "data": {
      "text/plain": [
       "830"
      ]
     },
     "execution_count": 317,
     "metadata": {},
     "output_type": "execute_result"
    }
   ],
   "source": [
    "citations_df['Violation Description'].nunique()"
   ]
  },
  {
   "cell_type": "code",
   "execution_count": 318,
   "metadata": {},
   "outputs": [
    {
     "data": {
      "text/plain": [
       "NO PARK/STREET CLEAN              2730747\n",
       "METER EXP.                        1624483\n",
       "RED ZONE                           709214\n",
       "PREFERENTIAL PARKING               650147\n",
       "DISPLAY OF TABS                    577836\n",
       "NO PARKING                         419530\n",
       "DISPLAY OF PLATES                  261671\n",
       "WHITE ZONE                         210172\n",
       "PARKED OVER TIME LIMIT             174295\n",
       "NO STOP/STANDING                   169716\n",
       "PARKED OVER TIME LIM               136763\n",
       "STANDNG IN ALLEY                   132570\n",
       "BLOCKING DRIVEWAY                  118282\n",
       "STOP/STAND PROHIBIT                102673\n",
       "YELLOW ZONE                         98166\n",
       "NO EVIDENCE OF REG                  97200\n",
       "NO STOP/STAND                       95575\n",
       "PARKED ON SIDEWALK                  86156\n",
       "18 IN. CURB/2 WAY                   83027\n",
       "EXCEED 72HRS-ST                     81094\n",
       "FIRE HYDRANT                        74589\n",
       "DOUBLE PARKING                      63257\n",
       "NO STOPPING/ANTI-GRIDLOCK ZONE      61439\n",
       "OUTSIDE LINES/METER                 56488\n",
       "OFF STR/OVERTIME/MTR                49972\n",
       "NO STOPPING/ANTI-GRI                40488\n",
       "EXPIRED TAGS                        28585\n",
       "COMM VEH OVER TIME LIMIT            23007\n",
       "PRIVATE PROPERTY                    19989\n",
       "PARKED IN PARKWAY                   19682\n",
       "                                   ...   \n",
       "221E1                                   1\n",
       "24200A                                  1\n",
       "801803                                  1\n",
       "8363                                    1\n",
       "68714                                   1\n",
       "5608                                    1\n",
       "8080692                                 1\n",
       "8949                                    1\n",
       "63044K2                                 1\n",
       "8071A                                   1\n",
       "83722                                   1\n",
       "21367C                                  1\n",
       "8805                                    1\n",
       "8061A                                   1\n",
       "PARKING UNDESIGATED                     1\n",
       "26708CA1                                1\n",
       "501B                                    1\n",
       "5202C                                   1\n",
       "806601D                                 1\n",
       "2251657B                                1\n",
       "226078A                                 1\n",
       "22552                                   1\n",
       "22507HC2                                1\n",
       "2502A                                   1\n",
       "22523AG                                 1\n",
       "57490954                                1\n",
       "8649                                    1\n",
       "22502E1                                 1\n",
       "24651D                                  1\n",
       "8014                                    1\n",
       "Name: Violation Description, Length: 830, dtype: int64"
      ]
     },
     "execution_count": 318,
     "metadata": {},
     "output_type": "execute_result"
    }
   ],
   "source": [
    "citations_df['Violation Description'].value_counts()"
   ]
  },
  {
   "cell_type": "code",
   "execution_count": 3,
   "metadata": {},
   "outputs": [],
   "source": [
    "# there were singular instances of violation descriptions that were listed as a sequence of letters and digits\n",
    "# create a list of acceptable, understandable descriptions \n",
    "\n",
    "vd_list = citations_df[\"Violation Description\"].dropna().unique().tolist()\n",
    "descript = []\n",
    "\n",
    "for _strng in vd_list:\n",
    "    _string = str(_strng)\n",
    "    if(_string[0].isdigit()):\n",
    "        if(' ' in _string):\n",
    "            descript.append(_string)\n",
    "    else :\n",
    "        descript.append(_strng)\n",
    "        "
   ]
  },
  {
   "cell_type": "code",
   "execution_count": 4,
   "metadata": {},
   "outputs": [],
   "source": [
    "descript.sort() # sort in alphabetical order for ease of reading"
   ]
  },
  {
   "cell_type": "code",
   "execution_count": 5,
   "metadata": {},
   "outputs": [],
   "source": [
    "trimmed_df = citations_df[citations_df[\"Violation Description\"].isin(descript)] # trim dataframe down to usuable data"
   ]
  },
  {
   "cell_type": "code",
   "execution_count": 6,
   "metadata": {},
   "outputs": [],
   "source": [
    "fines = trimmed_df['Fine amount'].dropna().unique().tolist()"
   ]
  },
  {
   "cell_type": "code",
   "execution_count": 7,
   "metadata": {},
   "outputs": [],
   "source": [
    "trimmed_df = trimmed_df[trimmed_df['Fine amount'].isin(fines)]"
   ]
  },
  {
   "cell_type": "code",
   "execution_count": 8,
   "metadata": {},
   "outputs": [],
   "source": [
    "# assign integer to Fine Amount column most fines were whole numbers\n",
    "trimmed_df['Fine amount'] = trimmed_df['Fine amount'].astype('int64')"
   ]
  },
  {
   "cell_type": "code",
   "execution_count": 556,
   "metadata": {},
   "outputs": [],
   "source": [
    "#refining violation description by renaming similar offenses for a more uniform consistent description\n",
    "#results in ~143 different violations\n",
    "\n",
    "trimmed_df['Violation Description'] = trimmed_df['Violation Description'].replace(\n",
    "{  \n",
    "  'ABAND VEH/HIGHWAY': 'ABANDONED VEHICLE',\n",
    "  'ABAND VEH/PUB/PRIV': 'ABANDONED VEHICLE',\n",
    "  'BLK BIKE PATH OR LAN': 'BLK BIKE PATH OR LANE',\n",
    "  'BLK INT PROHIB': 'BLOCKING INTERSECTION',  \n",
    "  'BLOCKING INTERSECTIO': 'BLOCKING INTERSECTION',\n",
    "  'WITHIN INTERSECTION': 'BLOCKING INTERSECTION',\n",
    "  'COMM VEH OVER TIME L':'COMM VEH OVER TIME LIMIT',\n",
    "  'COMVEH RES/OV TM B-2':'COMM VEH OVER TIME LIMIT',\n",
    "  'COMVEH RES/OV TM C-3':'COMM VEH OVER TIME LIMIT',\n",
    "  'COMVEH RES/OV TM LMT':'COMM VEH OVER TIME LIMIT',\n",
    "  'DEF WINDSHIELD': 'DEFECTIVE WIPERS',\n",
    "  'DEFECT WIPERS' : 'DEFECTIVE WIPERS',\n",
    "  'DISABLED PARKING/BOU': 'DISABLED PARKING',\n",
    "  'DISABLED PARKING/BOUNDARIES': 'DISABLED PARKING',    \n",
    "  'DISABLED PARKING/CRO': 'DISABLED PARKING',\n",
    "  'DISABLED PARKING/CROSS HATCH': 'DISABLED PARKING',\n",
    "  'DISABLED PARKING/NO': 'DISABLED PARKING',\n",
    "  'DISABLED PARKING/NO DP ID': 'DISABLED PARKING',  \n",
    "  'DISABLED PARKING/OBS': 'DISABLED PARKING',\n",
    "  'DISABLED PARKING/OBSTRUCT ACCESS' : 'DISABLED PARKING', \n",
    "  'HANDICAP/CROSS HATCH':'DISABLED PARKING',\n",
    "  'HANDICAP/NO DP ID':'DISABLED PARKING',\n",
    "  'HANDICAP/ON LINE' :'DISABLED PARKING',\n",
    "  'HANDICPD/BLOCKING':'DISABLED PARKING',\n",
    "  'HANDICPD/ON LINE': 'DISABLED PARKING',  \n",
    "  'BLOCK HANDICAP ACCES':'DISABLED PARKING',\n",
    "  'DP- RO NOT PRESENT': 'DISABLED PARKING',\n",
    "  'DP-ALTERED': 'DISABLED PARKING',\n",
    "  'DP-BLKNG ACCESS RAMP': 'DISABLED PARKING',\n",
    "  'DP-REFUSE ID': 'DISABLED PARKING',\n",
    "  'DP-SUBPLATE': 'DISPLAY OF PLATES/TABS',\n",
    "  'DISPLAY OF PLATES':'DISPLAY OF PLATES/TABS',\n",
    "  'DISPLAY OF TABS':'DISPLAY OF PLATES/TABS',\n",
    "  'DSPLYPLATE A':'DISPLAY OF PLATES/TABS',\n",
    "  'DSPLYPLATE B':'DISPLAY OF PLATES/TABS',  \n",
    "  'DOUBLE PARK': 'DOUBLE PARKING',\n",
    "  'EXCEED 72 HOURS': 'EXCEEDED TIME LIMIT',\n",
    "  'EXCEED 72HRS-ST' : 'EXCEEDED TIME LIMIT',\n",
    "  'EXCEED TIME LMT': 'EXCEEDED TIME LIMIT',\n",
    "  'NO STOP/STAND AM': 'NO STOPPING/STANDING', \n",
    "  'NO STOP/STAND PM': 'NO STOPPING/STANDING',\n",
    "  'STOP/STAND PROHB': 'NO STOPPING/STANDING',\n",
    "  'STOP/STAND PROHIBIT': 'NO STOPPING/STANDING',\n",
    "  'NO STOP/STAND': 'NO STOPPING/STANDING',\n",
    "  'NO STOP/STANDING': 'NO STOPPING/STANDING',\n",
    "  'NO PARK/STREET CLEAN' : 'STREET CLEANING',\n",
    "  'TM LMT EXCEEDED': 'EXCEEDED TIME LIMIT',\n",
    "  'TIME LIMIT/CITY LOT': 'EXCEEDED TIME LIMIT',\n",
    "  'PARKED OVER TIME LIM': 'EXCEEDED TIME LIMIT',\n",
    "  'PARKED OVER TIME LIMIT': 'EXCEEDED TIME LIMIT',\n",
    "  'PK BYND TM LMTS': 'EXCEEDED TIME LIMIT',\n",
    "  'FAIL DEP COIN': 'NO COIN DEP IN METER',\n",
    "  'PREF PARKING': 'PREFERENTIAL PARKING',\n",
    "  'NO PARK STRT CLEAN': 'STREET CLEANING',\n",
    "  'CLEANING VEH/STREET': 'STREET CLEANING',\n",
    "  'METER EXP.':  'METER EXPIRED',\n",
    "  'MISUSE/DP PRIVILEGE':'DISABLED PARKING',\n",
    "  'MT FIRE RD NO PERMIT': 'OBST FIRE RD',\n",
    "  'CLOSED MT FIRE RD' : 'OBST FIRE RD',\n",
    "  'NO PARKING BETWEEN P': 'NO PARKING BETWEEN POSTED HOURS',\n",
    "  'NO PK BET 1-3AM' : 'NO PARKING BETWEEEN POSTED HOURS',\n",
    "  'NO STOPPING/ANTI-GRI':'ANTI-GRIDLOCK ZONE',\n",
    "  'PARK IN GRID LOCK ZN' : 'ANTI-GRIDLOCK ZONE',\n",
    "  'NO STOPPING/ANTI-GRIDLOCK ZONE': 'ANTI-GRIDLOCK ZONE' ,\n",
    "  'LOAD/UNLOAD ONLY' : 'LOADING ZONES',\n",
    "  'OFF STR/OVERTIME/MTR' : 'OFF STREET/OVERTIME',\n",
    "  'OVERSIZED VEHICLE PA' : 'OVERSIZED VEHICLE PARKING',\n",
    "  'OVERSIZED VEHICLE PARKING TOPHAM ST' : 'OVERSIZED VEHICLE PARKING',\n",
    "  'OVNIGHT PRK W/OUT PE' : 'OVERNIGHT PARKING',\n",
    "  'OVNIGHT PRK W/OUT PE' : 'RED FLAG DAY',\n",
    "  'PK NR FIRE HYDR' : 'FIRE HYDRANT',\n",
    "  'PARK RESTRCD': 'PK IN PROH AREA',\n",
    "  'PARK-PSTD AREAS': 'PK IN PROH AREA',\n",
    "  'PARKED IN BUS ZONE': 'PK IN PROH AREA',\n",
    "  'PARKED IN CROSSWALK':'PK IN PROH AREA',\n",
    "  'PARKED IN ELEC VEHICLE SPACE' : 'PK IN PROH AREA',\n",
    "  'PARKED IN FIRE LANE': 'PK IN PROH AREA',\n",
    "  'PARKED IN PARKWAY': 'PK IN PROH AREA',\n",
    "  'PARKED ON BRIDGE': 'PK IN PROH AREA',\n",
    "  'PARKED ON SIDEWALK': 'PK IN PROH AREA',\n",
    "  'PARKING-SNOW AREA': 'PK IN PROH AREA',\n",
    "  'PARKING/FRONT YARD': 'PK IN PROH AREA',\n",
    "  'PARKING/FRONT YARD 1' : 'PK IN PROH AREA',\n",
    "  'PARKING/FRONT YARD 2': 'PK IN PROH AREA',\n",
    "  'PARKING/FRONT YARD 3' : 'PK IN PROH AREA',\n",
    "  'PARKNG IN TUNNEL' : 'PK IN PROH AREA',\n",
    "  'PARKING AREA' : 'PK IN PROH AREA',\n",
    "  'PK TRAILER': 'PARKED TRAILER',\n",
    "  'PK TRAILER 2': 'PARKED TRAILER',\n",
    "  'PK TRAILER 3': 'PARKED TRAILER',    \n",
    "  'PK OVERSIZED 1ST':'PARKED TRAILER',\n",
    "  'PK OVERSIZED 2ND': 'PARKED TRAILER',\n",
    "  'PK OVERSIZED 3RD':'PARKED TRAILER',\n",
    "  'POSITION OF PLATES': 'DISPLAY OF PLATES/TABS',\n",
    "  'PK ON PRIV ST' : 'PK IN PROH AREA',\n",
    "  'PK OTSD PSTD AR' : 'PK IN PROH AREA',\n",
    "  'PK OUTSD PK STL' : 'PK IN PROH AREA',\n",
    "  'PK OUTSD SPACE' : 'PK IN PROH AREA',\n",
    "  'PRKG PUBL GRNDS' : 'PK IN PROH AREA',\n",
    "  'PK OVR 2 SPACES' : 'PK OVR PNTD LNS',\n",
    "  'SIGN POSTED - NO PAR' : 'NO PARKING',\n",
    "  'SIGN PSTD-NO PK' : 'NO PARKING',\n",
    "  'SIGN POSTED - NO PARKING' : 'NO PARKING',\n",
    "  'PARKING UNDESIGATED' : 'NO PARKING',\n",
    "  'PARKING PROHIB' : 'NO PARKING',\n",
    "  'YELLOW CURB' : 'COLOR ZONE',\n",
    "  'WHITE CURB' : 'COLOR ZONE',\n",
    "  'RED CURB' : 'COLOR ZONE',\n",
    "  'YELLOW ZONE' : 'COLOR ZONE',\n",
    "  'RED ZONE' : 'COLOR ZONE',\n",
    "  'GREEN ZONE' : 'COLOR ZONE',\n",
    "  'WHITE ZONE' : 'COLOR ZONE', \n",
    "  'PKD IN/ON PARKWAY' : 'PK IN PROH AREA',\n",
    "  'RESTRCTD ZONES': 'RESTRICTED ZONE',\n",
    "  'RESTRICTED TAXI ZONE': 'RESTRICTED ZONE',\n",
    "  'STNDNG IN ALLEY' : 'STANDING IN ALLEY',\n",
    "  'STANDNG IN ALLEY' : 'STANDING IN ALLEY'\n",
    "})"
   ]
  },
  {
   "cell_type": "code",
   "execution_count": 557,
   "metadata": {},
   "outputs": [
    {
     "data": {
      "text/plain": [
       "116"
      ]
     },
     "execution_count": 557,
     "metadata": {},
     "output_type": "execute_result"
    }
   ],
   "source": [
    "trimmed_df['Violation Description'].nunique()"
   ]
  },
  {
   "cell_type": "code",
   "execution_count": 558,
   "metadata": {},
   "outputs": [],
   "source": [
    "groupedby = trimmed_df.groupby('Violation Description') #group by violation description"
   ]
  },
  {
   "cell_type": "code",
   "execution_count": 559,
   "metadata": {},
   "outputs": [
    {
     "data": {
      "image/png": "[encoded data removed]",
      "text/plain": [
       "<Figure size 1440x360 with 1 Axes>"
      ]
     },
     "metadata": {
      "needs_background": "light"
     },
     "output_type": "display_data"
    }
   ],
   "source": [
    "# grab the n most cited violations and chart them via bar chart\n",
    "\n",
    "num_violations = groupedby.count()['Fine amount'].nlargest(n=10, keep='first')\n",
    "num_violations.plot.barh(figsize=(20,5))\n",
    "\n",
    "plt.title(\"10 MOST COMMON VIOLATIONS\", fontsize=18, weight='bold')\n",
    "\n",
    "plt.ylabel(\"VIOLATIONS\", fontsize=18, rotation=90, weight='bold')\n",
    "plt.xlabel(\"TICKETS\", fontsize=18, weight='bold')\n",
    "plt.xticks(fontsize=14)\n",
    "plt.yticks(fontsize=14)\n",
    "\n",
    "plt.tight_layout()\n",
    "\n",
    "plt.savefig(\"../Data/Images/top_violations.png\")\n",
    "plt.show()"
   ]
  },
  {
   "cell_type": "code",
   "execution_count": 560,
   "metadata": {},
   "outputs": [
    {
     "data": {
      "image/png": "[encoded data removed]",
      "text/plain": [
       "<Figure size 864x360 with 1 Axes>"
      ]
     },
     "metadata": {
      "needs_background": "light"
     },
     "output_type": "display_data"
    }
   ],
   "source": [
    "avg_fine_vio = groupedby.mean()['Fine amount']\n",
    "avg_fine_vio = avg_fine_vio.sort_values(inplace=False, ascending=False).nlargest(n=10, keep='last')\n",
    "avg_fine_vio.plot.barh(figsize=(12,5))\n",
    "\n",
    "plt.title(\"10 HIGHEST FINED VIOLATIONS\", fontsize=12, weight='bold')\n",
    "\n",
    "plt.ylabel(\"VIOLATIONS\", fontsize=12, rotation=90, weight='bold')\n",
    "plt.xlabel(\"FINE AMOUNT ($)\", fontsize=12, weight='bold')\n",
    "plt.xticks(fontsize=12)\n",
    "plt.yticks(fontsize=12)\n",
    "\n",
    "plt.tight_layout()\n",
    "plt.savefig(\"../Data/Images/fined_violations.png\")\n",
    "plt.show()"
   ]
  },
  {
   "cell_type": "code",
   "execution_count": 15,
   "metadata": {},
   "outputs": [
    {
     "data": {
      "text/plain": [
       "655249460"
      ]
     },
     "execution_count": 15,
     "metadata": {},
     "output_type": "execute_result"
    }
   ],
   "source": [
    "total_revenue = trimmed_df['Fine amount'].sum()\n",
    "total_revenue"
   ]
  },
  {
   "cell_type": "code",
   "execution_count": 16,
   "metadata": {},
   "outputs": [
    {
     "data": {
      "text/plain": [
       "69.99971262971056"
      ]
     },
     "execution_count": 16,
     "metadata": {},
     "output_type": "execute_result"
    }
   ],
   "source": [
    "total_revenue / len(trimmed_df)"
   ]
  },
  {
   "cell_type": "code",
   "execution_count": 341,
   "metadata": {},
   "outputs": [
    {
     "data": {
      "text/plain": [
       "Index(['STREET CLEANING', 'METER EXPIRED', 'COLOR ZONE',\n",
       "       'PREFERENTIAL PARKING', 'NO STOPPING/STANDING', 'NO PARKING',\n",
       "       'EXCEEDED TIME LIMIT', 'DISPLAY OF PLATES/TABS', 'DISABLED PARKING',\n",
       "       'ANTI-GRIDLOCK ZONE'],\n",
       "      dtype='object', name='Violation Description')"
      ]
     },
     "execution_count": 341,
     "metadata": {},
     "output_type": "execute_result"
    }
   ],
   "source": [
    "sum_fines = groupedby.sum()[\"Fine amount\"].nlargest(n=10, keep='first')\n",
    "sum_fines.keys()"
   ]
  },
  {
   "cell_type": "code",
   "execution_count": 378,
   "metadata": {},
   "outputs": [
    {
     "data": {
      "image/png": "[encoded data removed]",
      "text/plain": [
       "<Figure size 720x360 with 1 Axes>"
      ]
     },
     "metadata": {},
     "output_type": "display_data"
    }
   ],
   "source": [
    "explode = (0.1,0,0,0,0,0,0,0,0,0)\n",
    "pies = sum_fines.keys()\n",
    "percent_of = np.round((sum_fines / total_revenue)*100, 2)\n",
    "percent_of.plot.pie(figsize=(10,5),labels=None, explode=explode, shadow=True, startangle=140, textprops={'fontsize': 10,\\\n",
    "                    }, autopct=\"%1.1f%%\")\n",
    "\n",
    "plt.title(\"Violation Revenue\")\n",
    "plt.ylabel(\"\")\n",
    "plt.tight_layout()\n",
    "plt.axis(\"equal\")\n",
    "plt.legend(title=\"Violation Revenue\", labels = pies)\n",
    "plt.savefig(\"../Data/Images/pierevenue.png\")\n",
    "plt.show()"
   ]
  },
  {
   "cell_type": "code",
   "execution_count": 379,
   "metadata": {},
   "outputs": [],
   "source": [
    "n_locations = trimmed_df.groupby('Location').count()['Violation Description'].nlargest(n=10, keep='first')"
   ]
  },
  {
   "cell_type": "code",
   "execution_count": 381,
   "metadata": {},
   "outputs": [],
   "source": [
    "#top_locales = n_locations.reset_index()['Location'].tolist()\n",
    "top_locales = n_locations.keys()"
   ]
  },
  {
   "cell_type": "code",
   "execution_count": 382,
   "metadata": {},
   "outputs": [],
   "source": [
    "#top_violations = num_violations.to_frame().reset_index()['Violation Description'].tolist()\n",
    "top_violations = num_violations.keys()"
   ]
  },
  {
   "cell_type": "code",
   "execution_count": 383,
   "metadata": {},
   "outputs": [
    {
     "data": {
      "text/plain": [
       "Index(['1301 ELECTRIC AVE', '101 LARCHMONT BL N', '11600 SAN VICENTE BL',\n",
       "       '1600 IRVING TABOR CT', '2377 MIDVALE AVE', '4301 TUJUNGA AV',\n",
       "       '5901 98TH ST W', '7000 HAWTHORN AVE', '12100 VENTURA BL',\n",
       "       '4300 TUJUNGA AV'],\n",
       "      dtype='object', name='Location')"
      ]
     },
     "execution_count": 383,
     "metadata": {},
     "output_type": "execute_result"
    }
   ],
   "source": [
    "top_locales #list of most ticketed locations"
   ]
  },
  {
   "cell_type": "code",
   "execution_count": 384,
   "metadata": {},
   "outputs": [
    {
     "data": {
      "text/plain": [
       "Index(['STREET CLEANING', 'METER EXPIRED', 'COLOR ZONE',\n",
       "       'DISPLAY OF PLATES/TABS', 'PREFERENTIAL PARKING', 'NO PARKING',\n",
       "       'EXCEEDED TIME LIMIT', 'NO STOPPING/STANDING', 'PK IN PROH AREA',\n",
       "       'STANDING IN ALLEY'],\n",
       "      dtype='object', name='Violation Description')"
      ]
     },
     "execution_count": 384,
     "metadata": {},
     "output_type": "execute_result"
    }
   ],
   "source": [
    "top_violations #list of 10 most violations cited"
   ]
  },
  {
   "cell_type": "code",
   "execution_count": 385,
   "metadata": {},
   "outputs": [],
   "source": [
    "# create observed and expected dataframes of top_violations at top_locales\n",
    "observed_df = pd.DataFrame(columns=top_locales, index=top_violations)\n",
    "expected_df = pd.DataFrame(columns=top_locales, index=top_violations)"
   ]
  },
  {
   "cell_type": "code",
   "execution_count": 386,
   "metadata": {},
   "outputs": [],
   "source": [
    "# fill observed dataframe with violation totals at top 10 ticketed locations\n",
    "for vio in top_violations:\n",
    "    for locale in top_locales:\n",
    "        n_tickets = len(trimmed_df[(trimmed_df['Violation Description'] == vio) & (trimmed_df['Location'] == locale)])\n",
    "        observed_df.at[vio, locale] = n_tickets"
   ]
  },
  {
   "cell_type": "code",
   "execution_count": 387,
   "metadata": {},
   "outputs": [],
   "source": [
    "observed_df = observed_df.astype('int64')"
   ]
  },
  {
   "cell_type": "code",
   "execution_count": 388,
   "metadata": {},
   "outputs": [
    {
     "data": {
      "text/html": [
       "<div>\n",
       "<style scoped>\n",
       "    .dataframe tbody tr th:only-of-type {\n",
       "        vertical-align: middle;\n",
       "    }\n",
       "\n",
       "    .dataframe tbody tr th {\n",
       "        vertical-align: top;\n",
       "    }\n",
       "\n",
       "    .dataframe thead th {\n",
       "        text-align: right;\n",
       "    }\n",
       "</style>\n",
       "<table border=\"1\" class=\"dataframe\">\n",
       "  <thead>\n",
       "    <tr style=\"text-align: right;\">\n",
       "      <th>Location</th>\n",
       "      <th>1301 ELECTRIC AVE</th>\n",
       "      <th>101 LARCHMONT BL N</th>\n",
       "      <th>11600 SAN VICENTE BL</th>\n",
       "      <th>1600 IRVING TABOR CT</th>\n",
       "      <th>2377 MIDVALE AVE</th>\n",
       "      <th>4301 TUJUNGA AV</th>\n",
       "      <th>5901 98TH ST W</th>\n",
       "      <th>7000 HAWTHORN AVE</th>\n",
       "      <th>12100 VENTURA BL</th>\n",
       "      <th>4300 TUJUNGA AV</th>\n",
       "    </tr>\n",
       "    <tr>\n",
       "      <th>Violation Description</th>\n",
       "      <th></th>\n",
       "      <th></th>\n",
       "      <th></th>\n",
       "      <th></th>\n",
       "      <th></th>\n",
       "      <th></th>\n",
       "      <th></th>\n",
       "      <th></th>\n",
       "      <th></th>\n",
       "      <th></th>\n",
       "    </tr>\n",
       "  </thead>\n",
       "  <tbody>\n",
       "    <tr>\n",
       "      <th>STREET CLEANING</th>\n",
       "      <td>50</td>\n",
       "      <td>4</td>\n",
       "      <td>0</td>\n",
       "      <td>0</td>\n",
       "      <td>0</td>\n",
       "      <td>0</td>\n",
       "      <td>82</td>\n",
       "      <td>862</td>\n",
       "      <td>0</td>\n",
       "      <td>4</td>\n",
       "    </tr>\n",
       "    <tr>\n",
       "      <th>METER EXPIRED</th>\n",
       "      <td>8410</td>\n",
       "      <td>7014</td>\n",
       "      <td>6009</td>\n",
       "      <td>5143</td>\n",
       "      <td>110</td>\n",
       "      <td>5203</td>\n",
       "      <td>4647</td>\n",
       "      <td>0</td>\n",
       "      <td>4176</td>\n",
       "      <td>4821</td>\n",
       "    </tr>\n",
       "    <tr>\n",
       "      <th>COLOR ZONE</th>\n",
       "      <td>18</td>\n",
       "      <td>63</td>\n",
       "      <td>362</td>\n",
       "      <td>1</td>\n",
       "      <td>5</td>\n",
       "      <td>12</td>\n",
       "      <td>115</td>\n",
       "      <td>224</td>\n",
       "      <td>14</td>\n",
       "      <td>10</td>\n",
       "    </tr>\n",
       "    <tr>\n",
       "      <th>DISPLAY OF PLATES/TABS</th>\n",
       "      <td>1161</td>\n",
       "      <td>455</td>\n",
       "      <td>648</td>\n",
       "      <td>919</td>\n",
       "      <td>583</td>\n",
       "      <td>225</td>\n",
       "      <td>348</td>\n",
       "      <td>208</td>\n",
       "      <td>427</td>\n",
       "      <td>217</td>\n",
       "    </tr>\n",
       "    <tr>\n",
       "      <th>PREFERENTIAL PARKING</th>\n",
       "      <td>0</td>\n",
       "      <td>1</td>\n",
       "      <td>0</td>\n",
       "      <td>0</td>\n",
       "      <td>4</td>\n",
       "      <td>0</td>\n",
       "      <td>0</td>\n",
       "      <td>3981</td>\n",
       "      <td>0</td>\n",
       "      <td>0</td>\n",
       "    </tr>\n",
       "    <tr>\n",
       "      <th>NO PARKING</th>\n",
       "      <td>29</td>\n",
       "      <td>0</td>\n",
       "      <td>3</td>\n",
       "      <td>133</td>\n",
       "      <td>1167</td>\n",
       "      <td>1</td>\n",
       "      <td>26</td>\n",
       "      <td>2</td>\n",
       "      <td>0</td>\n",
       "      <td>0</td>\n",
       "    </tr>\n",
       "    <tr>\n",
       "      <th>EXCEEDED TIME LIMIT</th>\n",
       "      <td>41</td>\n",
       "      <td>0</td>\n",
       "      <td>5</td>\n",
       "      <td>6</td>\n",
       "      <td>1</td>\n",
       "      <td>0</td>\n",
       "      <td>19</td>\n",
       "      <td>46</td>\n",
       "      <td>2</td>\n",
       "      <td>0</td>\n",
       "    </tr>\n",
       "    <tr>\n",
       "      <th>NO STOPPING/STANDING</th>\n",
       "      <td>0</td>\n",
       "      <td>0</td>\n",
       "      <td>0</td>\n",
       "      <td>31</td>\n",
       "      <td>0</td>\n",
       "      <td>0</td>\n",
       "      <td>2</td>\n",
       "      <td>7</td>\n",
       "      <td>1</td>\n",
       "      <td>0</td>\n",
       "    </tr>\n",
       "    <tr>\n",
       "      <th>PK IN PROH AREA</th>\n",
       "      <td>2</td>\n",
       "      <td>1</td>\n",
       "      <td>0</td>\n",
       "      <td>0</td>\n",
       "      <td>1</td>\n",
       "      <td>0</td>\n",
       "      <td>0</td>\n",
       "      <td>0</td>\n",
       "      <td>1</td>\n",
       "      <td>0</td>\n",
       "    </tr>\n",
       "    <tr>\n",
       "      <th>STANDING IN ALLEY</th>\n",
       "      <td>4</td>\n",
       "      <td>0</td>\n",
       "      <td>5</td>\n",
       "      <td>89</td>\n",
       "      <td>0</td>\n",
       "      <td>0</td>\n",
       "      <td>0</td>\n",
       "      <td>0</td>\n",
       "      <td>15</td>\n",
       "      <td>1</td>\n",
       "    </tr>\n",
       "  </tbody>\n",
       "</table>\n",
       "</div>"
      ],
      "text/plain": [
       "Location                1301 ELECTRIC AVE  101 LARCHMONT BL N  \\\n",
       "Violation Description                                           \n",
       "STREET CLEANING                        50                   4   \n",
       "METER EXPIRED                        8410                7014   \n",
       "COLOR ZONE                             18                  63   \n",
       "DISPLAY OF PLATES/TABS               1161                 455   \n",
       "PREFERENTIAL PARKING                    0                   1   \n",
       "NO PARKING                             29                   0   \n",
       "EXCEEDED TIME LIMIT                    41                   0   \n",
       "NO STOPPING/STANDING                    0                   0   \n",
       "PK IN PROH AREA                         2                   1   \n",
       "STANDING IN ALLEY                       4                   0   \n",
       "\n",
       "Location                11600 SAN VICENTE BL  1600 IRVING TABOR CT  \\\n",
       "Violation Description                                                \n",
       "STREET CLEANING                            0                     0   \n",
       "METER EXPIRED                           6009                  5143   \n",
       "COLOR ZONE                               362                     1   \n",
       "DISPLAY OF PLATES/TABS                   648                   919   \n",
       "PREFERENTIAL PARKING                       0                     0   \n",
       "NO PARKING                                 3                   133   \n",
       "EXCEEDED TIME LIMIT                        5                     6   \n",
       "NO STOPPING/STANDING                       0                    31   \n",
       "PK IN PROH AREA                            0                     0   \n",
       "STANDING IN ALLEY                          5                    89   \n",
       "\n",
       "Location                2377 MIDVALE AVE  4301 TUJUNGA AV  5901 98TH ST W  \\\n",
       "Violation Description                                                       \n",
       "STREET CLEANING                        0                0              82   \n",
       "METER EXPIRED                        110             5203            4647   \n",
       "COLOR ZONE                             5               12             115   \n",
       "DISPLAY OF PLATES/TABS               583              225             348   \n",
       "PREFERENTIAL PARKING                   4                0               0   \n",
       "NO PARKING                          1167                1              26   \n",
       "EXCEEDED TIME LIMIT                    1                0              19   \n",
       "NO STOPPING/STANDING                   0                0               2   \n",
       "PK IN PROH AREA                        1                0               0   \n",
       "STANDING IN ALLEY                      0                0               0   \n",
       "\n",
       "Location                7000 HAWTHORN AVE  12100 VENTURA BL  4300 TUJUNGA AV  \n",
       "Violation Description                                                         \n",
       "STREET CLEANING                       862                 0                4  \n",
       "METER EXPIRED                           0              4176             4821  \n",
       "COLOR ZONE                            224                14               10  \n",
       "DISPLAY OF PLATES/TABS                208               427              217  \n",
       "PREFERENTIAL PARKING                 3981                 0                0  \n",
       "NO PARKING                              2                 0                0  \n",
       "EXCEEDED TIME LIMIT                    46                 2                0  \n",
       "NO STOPPING/STANDING                    7                 1                0  \n",
       "PK IN PROH AREA                         0                 1                0  \n",
       "STANDING IN ALLEY                       0                15                1  "
      ]
     },
     "execution_count": 388,
     "metadata": {},
     "output_type": "execute_result"
    }
   ],
   "source": [
    "observed_df"
   ]
  },
  {
   "cell_type": "code",
   "execution_count": 187,
   "metadata": {},
   "outputs": [
    {
     "data": {
      "text/html": [
       "<div>\n",
       "<style scoped>\n",
       "    .dataframe tbody tr th:only-of-type {\n",
       "        vertical-align: middle;\n",
       "    }\n",
       "\n",
       "    .dataframe tbody tr th {\n",
       "        vertical-align: top;\n",
       "    }\n",
       "\n",
       "    .dataframe thead th {\n",
       "        text-align: right;\n",
       "    }\n",
       "</style>\n",
       "<table border=\"1\" class=\"dataframe\">\n",
       "  <thead>\n",
       "    <tr style=\"text-align: right;\">\n",
       "      <th></th>\n",
       "      <th>NO PARK/STREET CLEAN</th>\n",
       "      <th>METER EXPIRED</th>\n",
       "      <th>COLOR ZONE</th>\n",
       "      <th>DISPLAY OF PLATES/TABS</th>\n",
       "      <th>PREFERENTIAL PARKING</th>\n",
       "      <th>NO PARKING</th>\n",
       "      <th>EXCEEDED TIME LIMIT</th>\n",
       "      <th>NO STOPPING/STANDING</th>\n",
       "      <th>PK IN PROH AREA</th>\n",
       "      <th>STANDING IN ALLEY</th>\n",
       "    </tr>\n",
       "  </thead>\n",
       "  <tbody>\n",
       "    <tr>\n",
       "      <th>1301 ELECTRIC AVE</th>\n",
       "      <td>50</td>\n",
       "      <td>8410</td>\n",
       "      <td>18</td>\n",
       "      <td>1161</td>\n",
       "      <td>0</td>\n",
       "      <td>29</td>\n",
       "      <td>41</td>\n",
       "      <td>0</td>\n",
       "      <td>2</td>\n",
       "      <td>4</td>\n",
       "    </tr>\n",
       "    <tr>\n",
       "      <th>101 LARCHMONT BL N</th>\n",
       "      <td>4</td>\n",
       "      <td>7014</td>\n",
       "      <td>63</td>\n",
       "      <td>455</td>\n",
       "      <td>1</td>\n",
       "      <td>0</td>\n",
       "      <td>0</td>\n",
       "      <td>0</td>\n",
       "      <td>1</td>\n",
       "      <td>0</td>\n",
       "    </tr>\n",
       "    <tr>\n",
       "      <th>11600 SAN VICENTE BL</th>\n",
       "      <td>0</td>\n",
       "      <td>6009</td>\n",
       "      <td>362</td>\n",
       "      <td>648</td>\n",
       "      <td>0</td>\n",
       "      <td>3</td>\n",
       "      <td>5</td>\n",
       "      <td>0</td>\n",
       "      <td>0</td>\n",
       "      <td>5</td>\n",
       "    </tr>\n",
       "    <tr>\n",
       "      <th>1600 IRVING TABOR CT</th>\n",
       "      <td>0</td>\n",
       "      <td>5143</td>\n",
       "      <td>1</td>\n",
       "      <td>919</td>\n",
       "      <td>0</td>\n",
       "      <td>133</td>\n",
       "      <td>6</td>\n",
       "      <td>31</td>\n",
       "      <td>0</td>\n",
       "      <td>89</td>\n",
       "    </tr>\n",
       "    <tr>\n",
       "      <th>2377 MIDVALE AVE</th>\n",
       "      <td>0</td>\n",
       "      <td>110</td>\n",
       "      <td>5</td>\n",
       "      <td>583</td>\n",
       "      <td>4</td>\n",
       "      <td>1167</td>\n",
       "      <td>1</td>\n",
       "      <td>0</td>\n",
       "      <td>1</td>\n",
       "      <td>0</td>\n",
       "    </tr>\n",
       "    <tr>\n",
       "      <th>4301 TUJUNGA AV</th>\n",
       "      <td>0</td>\n",
       "      <td>5203</td>\n",
       "      <td>12</td>\n",
       "      <td>225</td>\n",
       "      <td>0</td>\n",
       "      <td>1</td>\n",
       "      <td>0</td>\n",
       "      <td>0</td>\n",
       "      <td>0</td>\n",
       "      <td>0</td>\n",
       "    </tr>\n",
       "    <tr>\n",
       "      <th>5901 98TH ST W</th>\n",
       "      <td>82</td>\n",
       "      <td>4647</td>\n",
       "      <td>115</td>\n",
       "      <td>348</td>\n",
       "      <td>0</td>\n",
       "      <td>26</td>\n",
       "      <td>19</td>\n",
       "      <td>2</td>\n",
       "      <td>0</td>\n",
       "      <td>0</td>\n",
       "    </tr>\n",
       "    <tr>\n",
       "      <th>7000 HAWTHORN AVE</th>\n",
       "      <td>862</td>\n",
       "      <td>0</td>\n",
       "      <td>224</td>\n",
       "      <td>208</td>\n",
       "      <td>3981</td>\n",
       "      <td>2</td>\n",
       "      <td>46</td>\n",
       "      <td>7</td>\n",
       "      <td>0</td>\n",
       "      <td>0</td>\n",
       "    </tr>\n",
       "    <tr>\n",
       "      <th>12100 VENTURA BL</th>\n",
       "      <td>0</td>\n",
       "      <td>4176</td>\n",
       "      <td>14</td>\n",
       "      <td>427</td>\n",
       "      <td>0</td>\n",
       "      <td>0</td>\n",
       "      <td>2</td>\n",
       "      <td>1</td>\n",
       "      <td>1</td>\n",
       "      <td>15</td>\n",
       "    </tr>\n",
       "    <tr>\n",
       "      <th>4300 TUJUNGA AV</th>\n",
       "      <td>4</td>\n",
       "      <td>4821</td>\n",
       "      <td>10</td>\n",
       "      <td>217</td>\n",
       "      <td>0</td>\n",
       "      <td>0</td>\n",
       "      <td>0</td>\n",
       "      <td>0</td>\n",
       "      <td>0</td>\n",
       "      <td>1</td>\n",
       "    </tr>\n",
       "  </tbody>\n",
       "</table>\n",
       "</div>"
      ],
      "text/plain": [
       "                      NO PARK/STREET CLEAN  METER EXPIRED  COLOR ZONE  \\\n",
       "1301 ELECTRIC AVE                       50           8410          18   \n",
       "101 LARCHMONT BL N                       4           7014          63   \n",
       "11600 SAN VICENTE BL                     0           6009         362   \n",
       "1600 IRVING TABOR CT                     0           5143           1   \n",
       "2377 MIDVALE AVE                         0            110           5   \n",
       "4301 TUJUNGA AV                          0           5203          12   \n",
       "5901 98TH ST W                          82           4647         115   \n",
       "7000 HAWTHORN AVE                      862              0         224   \n",
       "12100 VENTURA BL                         0           4176          14   \n",
       "4300 TUJUNGA AV                          4           4821          10   \n",
       "\n",
       "                      DISPLAY OF PLATES/TABS  PREFERENTIAL PARKING  \\\n",
       "1301 ELECTRIC AVE                       1161                     0   \n",
       "101 LARCHMONT BL N                       455                     1   \n",
       "11600 SAN VICENTE BL                     648                     0   \n",
       "1600 IRVING TABOR CT                     919                     0   \n",
       "2377 MIDVALE AVE                         583                     4   \n",
       "4301 TUJUNGA AV                          225                     0   \n",
       "5901 98TH ST W                           348                     0   \n",
       "7000 HAWTHORN AVE                        208                  3981   \n",
       "12100 VENTURA BL                         427                     0   \n",
       "4300 TUJUNGA AV                          217                     0   \n",
       "\n",
       "                      NO PARKING  EXCEEDED TIME LIMIT  NO STOPPING/STANDING  \\\n",
       "1301 ELECTRIC AVE             29                   41                     0   \n",
       "101 LARCHMONT BL N             0                    0                     0   \n",
       "11600 SAN VICENTE BL           3                    5                     0   \n",
       "1600 IRVING TABOR CT         133                    6                    31   \n",
       "2377 MIDVALE AVE            1167                    1                     0   \n",
       "4301 TUJUNGA AV                1                    0                     0   \n",
       "5901 98TH ST W                26                   19                     2   \n",
       "7000 HAWTHORN AVE              2                   46                     7   \n",
       "12100 VENTURA BL               0                    2                     1   \n",
       "4300 TUJUNGA AV                0                    0                     0   \n",
       "\n",
       "                      PK IN PROH AREA  STANDING IN ALLEY  \n",
       "1301 ELECTRIC AVE                   2                  4  \n",
       "101 LARCHMONT BL N                  1                  0  \n",
       "11600 SAN VICENTE BL                0                  5  \n",
       "1600 IRVING TABOR CT                0                 89  \n",
       "2377 MIDVALE AVE                    1                  0  \n",
       "4301 TUJUNGA AV                     0                  0  \n",
       "5901 98TH ST W                      0                  0  \n",
       "7000 HAWTHORN AVE                   0                  0  \n",
       "12100 VENTURA BL                    1                 15  \n",
       "4300 TUJUNGA AV                     0                  1  "
      ]
     },
     "execution_count": 187,
     "metadata": {},
     "output_type": "execute_result"
    }
   ],
   "source": [
    "observed_df.T"
   ]
  },
  {
   "cell_type": "code",
   "execution_count": 390,
   "metadata": {},
   "outputs": [
    {
     "data": {
      "text/plain": [
       "Power_divergenceResult(statistic=446558.37136669125, pvalue=0.0)"
      ]
     },
     "execution_count": 390,
     "metadata": {},
     "output_type": "execute_result"
    }
   ],
   "source": [
    "stats.chisquare(observed_df.T, axis=None)"
   ]
  },
  {
   "cell_type": "code",
   "execution_count": 391,
   "metadata": {},
   "outputs": [],
   "source": [
    "# create key/value dictionaries for violation and locale sums to be\n",
    "# used to calculate expected values dataframe\n",
    "# summing each of the 10 rows, and each of the 10 columns\n",
    "violation_sums = observed_df.sum(axis=1).to_dict()\n",
    "locale_sums = observed_df.sum().to_dict()"
   ]
  },
  {
   "cell_type": "code",
   "execution_count": 392,
   "metadata": {},
   "outputs": [
    {
     "data": {
      "text/plain": [
       "Location\n",
       "1301 ELECTRIC AVE       9715\n",
       "101 LARCHMONT BL N      7538\n",
       "11600 SAN VICENTE BL    7032\n",
       "1600 IRVING TABOR CT    6322\n",
       "2377 MIDVALE AVE        1871\n",
       "4301 TUJUNGA AV         5441\n",
       "5901 98TH ST W          5239\n",
       "7000 HAWTHORN AVE       5330\n",
       "12100 VENTURA BL        4636\n",
       "4300 TUJUNGA AV         5053\n",
       "dtype: int64"
      ]
     },
     "execution_count": 392,
     "metadata": {},
     "output_type": "execute_result"
    }
   ],
   "source": [
    "observed_df.sum()"
   ]
  },
  {
   "cell_type": "code",
   "execution_count": 394,
   "metadata": {},
   "outputs": [
    {
     "data": {
      "text/plain": [
       "58177"
      ]
     },
     "execution_count": 394,
     "metadata": {},
     "output_type": "execute_result"
    }
   ],
   "source": [
    "#total amount of tickets given\n",
    "N = observed_df.sum().sum()\n",
    "N"
   ]
  },
  {
   "cell_type": "code",
   "execution_count": 395,
   "metadata": {},
   "outputs": [],
   "source": [
    "# fill expected dataframe with calculations\n",
    "# total row x total column \n",
    "for vio in top_violations:\n",
    "    for locale in top_locales:\n",
    "        Ex_Val = ((violation_sums[vio] * locale_sums[locale]) / N)\n",
    "        expected_df.at[vio, locale] = Ex_Val"
   ]
  },
  {
   "cell_type": "code",
   "execution_count": 396,
   "metadata": {},
   "outputs": [],
   "source": [
    "expected_df = expected_df.astype('float64')"
   ]
  },
  {
   "cell_type": "code",
   "execution_count": 397,
   "metadata": {},
   "outputs": [
    {
     "data": {
      "text/html": [
       "<div>\n",
       "<style scoped>\n",
       "    .dataframe tbody tr th:only-of-type {\n",
       "        vertical-align: middle;\n",
       "    }\n",
       "\n",
       "    .dataframe tbody tr th {\n",
       "        vertical-align: top;\n",
       "    }\n",
       "\n",
       "    .dataframe thead th {\n",
       "        text-align: right;\n",
       "    }\n",
       "</style>\n",
       "<table border=\"1\" class=\"dataframe\">\n",
       "  <thead>\n",
       "    <tr style=\"text-align: right;\">\n",
       "      <th>Location</th>\n",
       "      <th>1301 ELECTRIC AVE</th>\n",
       "      <th>101 LARCHMONT BL N</th>\n",
       "      <th>11600 SAN VICENTE BL</th>\n",
       "      <th>1600 IRVING TABOR CT</th>\n",
       "      <th>2377 MIDVALE AVE</th>\n",
       "      <th>4301 TUJUNGA AV</th>\n",
       "      <th>5901 98TH ST W</th>\n",
       "      <th>7000 HAWTHORN AVE</th>\n",
       "      <th>12100 VENTURA BL</th>\n",
       "      <th>4300 TUJUNGA AV</th>\n",
       "    </tr>\n",
       "    <tr>\n",
       "      <th>Violation Description</th>\n",
       "      <th></th>\n",
       "      <th></th>\n",
       "      <th></th>\n",
       "      <th></th>\n",
       "      <th></th>\n",
       "      <th></th>\n",
       "      <th></th>\n",
       "      <th></th>\n",
       "      <th></th>\n",
       "      <th></th>\n",
       "    </tr>\n",
       "  </thead>\n",
       "  <tbody>\n",
       "    <tr>\n",
       "      <th>STREET CLEANING</th>\n",
       "      <td>167.324372</td>\n",
       "      <td>129.829245</td>\n",
       "      <td>121.114255</td>\n",
       "      <td>108.885711</td>\n",
       "      <td>32.224797</td>\n",
       "      <td>93.711982</td>\n",
       "      <td>90.232876</td>\n",
       "      <td>91.800196</td>\n",
       "      <td>79.847225</td>\n",
       "      <td>87.029341</td>\n",
       "    </tr>\n",
       "    <tr>\n",
       "      <th>METER EXPIRED</th>\n",
       "      <td>7603.573491</td>\n",
       "      <td>5899.715592</td>\n",
       "      <td>5503.687987</td>\n",
       "      <td>4947.997078</td>\n",
       "      <td>1464.362944</td>\n",
       "      <td>4258.470753</td>\n",
       "      <td>4100.372776</td>\n",
       "      <td>4171.595132</td>\n",
       "      <td>3628.426835</td>\n",
       "      <td>3954.797411</td>\n",
       "    </tr>\n",
       "    <tr>\n",
       "      <th>COLOR ZONE</th>\n",
       "      <td>137.600083</td>\n",
       "      <td>106.765767</td>\n",
       "      <td>99.598948</td>\n",
       "      <td>89.542740</td>\n",
       "      <td>26.500232</td>\n",
       "      <td>77.064544</td>\n",
       "      <td>74.203482</td>\n",
       "      <td>75.492377</td>\n",
       "      <td>65.662788</td>\n",
       "      <td>71.569039</td>\n",
       "    </tr>\n",
       "    <tr>\n",
       "      <th>DISPLAY OF PLATES/TABS</th>\n",
       "      <td>866.847122</td>\n",
       "      <td>672.598415</td>\n",
       "      <td>627.449198</td>\n",
       "      <td>564.097530</td>\n",
       "      <td>166.945030</td>\n",
       "      <td>485.487925</td>\n",
       "      <td>467.463929</td>\n",
       "      <td>475.583650</td>\n",
       "      <td>413.659625</td>\n",
       "      <td>450.867577</td>\n",
       "    </tr>\n",
       "    <tr>\n",
       "      <th>PREFERENTIAL PARKING</th>\n",
       "      <td>665.623700</td>\n",
       "      <td>516.466439</td>\n",
       "      <td>481.797824</td>\n",
       "      <td>433.152139</td>\n",
       "      <td>128.191656</td>\n",
       "      <td>372.790381</td>\n",
       "      <td>358.950341</td>\n",
       "      <td>365.185211</td>\n",
       "      <td>317.635767</td>\n",
       "      <td>346.206542</td>\n",
       "    </tr>\n",
       "    <tr>\n",
       "      <th>NO PARKING</th>\n",
       "      <td>227.273923</td>\n",
       "      <td>176.344913</td>\n",
       "      <td>164.507486</td>\n",
       "      <td>147.897657</td>\n",
       "      <td>43.770408</td>\n",
       "      <td>127.287433</td>\n",
       "      <td>122.561820</td>\n",
       "      <td>124.690685</td>\n",
       "      <td>108.455163</td>\n",
       "      <td>118.210513</td>\n",
       "    </tr>\n",
       "    <tr>\n",
       "      <th>EXCEEDED TIME LIMIT</th>\n",
       "      <td>20.038847</td>\n",
       "      <td>15.548413</td>\n",
       "      <td>14.504701</td>\n",
       "      <td>13.040205</td>\n",
       "      <td>3.859257</td>\n",
       "      <td>11.222992</td>\n",
       "      <td>10.806332</td>\n",
       "      <td>10.994035</td>\n",
       "      <td>9.562542</td>\n",
       "      <td>10.422676</td>\n",
       "    </tr>\n",
       "    <tr>\n",
       "      <th>NO STOPPING/STANDING</th>\n",
       "      <td>6.846606</td>\n",
       "      <td>5.312374</td>\n",
       "      <td>4.955773</td>\n",
       "      <td>4.455403</td>\n",
       "      <td>1.318580</td>\n",
       "      <td>3.834522</td>\n",
       "      <td>3.692164</td>\n",
       "      <td>3.756295</td>\n",
       "      <td>3.267202</td>\n",
       "      <td>3.561081</td>\n",
       "    </tr>\n",
       "    <tr>\n",
       "      <th>PK IN PROH AREA</th>\n",
       "      <td>0.834952</td>\n",
       "      <td>0.647851</td>\n",
       "      <td>0.604363</td>\n",
       "      <td>0.543342</td>\n",
       "      <td>0.160802</td>\n",
       "      <td>0.467625</td>\n",
       "      <td>0.450264</td>\n",
       "      <td>0.458085</td>\n",
       "      <td>0.398439</td>\n",
       "      <td>0.434278</td>\n",
       "    </tr>\n",
       "    <tr>\n",
       "      <th>STANDING IN ALLEY</th>\n",
       "      <td>19.036905</td>\n",
       "      <td>14.770992</td>\n",
       "      <td>13.779466</td>\n",
       "      <td>12.388195</td>\n",
       "      <td>3.666294</td>\n",
       "      <td>10.661842</td>\n",
       "      <td>10.266016</td>\n",
       "      <td>10.444334</td>\n",
       "      <td>9.084415</td>\n",
       "      <td>9.901542</td>\n",
       "    </tr>\n",
       "  </tbody>\n",
       "</table>\n",
       "</div>"
      ],
      "text/plain": [
       "Location                1301 ELECTRIC AVE  101 LARCHMONT BL N  \\\n",
       "Violation Description                                           \n",
       "STREET CLEANING                167.324372          129.829245   \n",
       "METER EXPIRED                 7603.573491         5899.715592   \n",
       "COLOR ZONE                     137.600083          106.765767   \n",
       "DISPLAY OF PLATES/TABS         866.847122          672.598415   \n",
       "PREFERENTIAL PARKING           665.623700          516.466439   \n",
       "NO PARKING                     227.273923          176.344913   \n",
       "EXCEEDED TIME LIMIT             20.038847           15.548413   \n",
       "NO STOPPING/STANDING             6.846606            5.312374   \n",
       "PK IN PROH AREA                  0.834952            0.647851   \n",
       "STANDING IN ALLEY               19.036905           14.770992   \n",
       "\n",
       "Location                11600 SAN VICENTE BL  1600 IRVING TABOR CT  \\\n",
       "Violation Description                                                \n",
       "STREET CLEANING                   121.114255            108.885711   \n",
       "METER EXPIRED                    5503.687987           4947.997078   \n",
       "COLOR ZONE                         99.598948             89.542740   \n",
       "DISPLAY OF PLATES/TABS            627.449198            564.097530   \n",
       "PREFERENTIAL PARKING              481.797824            433.152139   \n",
       "NO PARKING                        164.507486            147.897657   \n",
       "EXCEEDED TIME LIMIT                14.504701             13.040205   \n",
       "NO STOPPING/STANDING                4.955773              4.455403   \n",
       "PK IN PROH AREA                     0.604363              0.543342   \n",
       "STANDING IN ALLEY                  13.779466             12.388195   \n",
       "\n",
       "Location                2377 MIDVALE AVE  4301 TUJUNGA AV  5901 98TH ST W  \\\n",
       "Violation Description                                                       \n",
       "STREET CLEANING                32.224797        93.711982       90.232876   \n",
       "METER EXPIRED                1464.362944      4258.470753     4100.372776   \n",
       "COLOR ZONE                     26.500232        77.064544       74.203482   \n",
       "DISPLAY OF PLATES/TABS        166.945030       485.487925      467.463929   \n",
       "PREFERENTIAL PARKING          128.191656       372.790381      358.950341   \n",
       "NO PARKING                     43.770408       127.287433      122.561820   \n",
       "EXCEEDED TIME LIMIT             3.859257        11.222992       10.806332   \n",
       "NO STOPPING/STANDING            1.318580         3.834522        3.692164   \n",
       "PK IN PROH AREA                 0.160802         0.467625        0.450264   \n",
       "STANDING IN ALLEY               3.666294        10.661842       10.266016   \n",
       "\n",
       "Location                7000 HAWTHORN AVE  12100 VENTURA BL  4300 TUJUNGA AV  \n",
       "Violation Description                                                         \n",
       "STREET CLEANING                 91.800196         79.847225        87.029341  \n",
       "METER EXPIRED                 4171.595132       3628.426835      3954.797411  \n",
       "COLOR ZONE                      75.492377         65.662788        71.569039  \n",
       "DISPLAY OF PLATES/TABS         475.583650        413.659625       450.867577  \n",
       "PREFERENTIAL PARKING           365.185211        317.635767       346.206542  \n",
       "NO PARKING                     124.690685        108.455163       118.210513  \n",
       "EXCEEDED TIME LIMIT             10.994035          9.562542        10.422676  \n",
       "NO STOPPING/STANDING             3.756295          3.267202         3.561081  \n",
       "PK IN PROH AREA                  0.458085          0.398439         0.434278  \n",
       "STANDING IN ALLEY               10.444334          9.084415         9.901542  "
      ]
     },
     "execution_count": 397,
     "metadata": {},
     "output_type": "execute_result"
    }
   ],
   "source": [
    "expected_df"
   ]
  },
  {
   "cell_type": "code",
   "execution_count": 401,
   "metadata": {},
   "outputs": [
    {
     "data": {
      "text/plain": [
       "Power_divergenceResult(statistic=446558.37136669125, pvalue=0.0)"
      ]
     },
     "execution_count": 401,
     "metadata": {},
     "output_type": "execute_result"
    }
   ],
   "source": [
    "# Perform chi-square test on both dataframes \n",
    "# With 10 rows the degree of freedom is 10 - 1 = 9\n",
    "# With a p-value of 0.05, the confidence level is 1.00-0.05 = 0.95.\n",
    "critical_value = stats.chi2.ppf(q = 0.95, df = 99)\n",
    "\n",
    "# Run the chi square test with stats.chisquare()\n",
    "stats.chisquare(observed_df, axis=None)"
   ]
  },
  {
   "cell_type": "code",
   "execution_count": 399,
   "metadata": {},
   "outputs": [
    {
     "data": {
      "text/plain": [
       "123.2252214533618"
      ]
     },
     "execution_count": 399,
     "metadata": {},
     "output_type": "execute_result"
    }
   ],
   "source": [
    "critical_value"
   ]
  },
  {
   "cell_type": "code",
   "execution_count": null,
   "metadata": {},
   "outputs": [],
   "source": [
    "# because statistic array is greater than the critical value :\n",
    "#reject the null hypothesis - that violations are independent of location\n",
    "# depending where you are, you are more likely to receive one kind of violation"
   ]
  },
  {
   "cell_type": "code",
   "execution_count": 561,
   "metadata": {},
   "outputs": [],
   "source": [
    "tesla_df = trimmed_df[trimmed_df['Make']=='TESL']"
   ]
  },
  {
   "cell_type": "code",
   "execution_count": 562,
   "metadata": {},
   "outputs": [],
   "source": [
    "tesla_df = tesla_df['Violation Description'].value_counts().nlargest(n=10, keep='first')"
   ]
  },
  {
   "cell_type": "code",
   "execution_count": 563,
   "metadata": {},
   "outputs": [],
   "source": [
    "car_dict = tesla_df.to_dict()"
   ]
  },
  {
   "cell_type": "code",
   "execution_count": 564,
   "metadata": {},
   "outputs": [
    {
     "data": {
      "image/png": "[encoded data removed]",
      "text/plain": [
       "<Figure size 432x288 with 1 Axes>"
      ]
     },
     "metadata": {
      "needs_background": "light"
     },
     "output_type": "display_data"
    }
   ],
   "source": [
    "x=\"TESLA\"\n",
    "y_pos=[0]\n",
    "for n in car_dict:\n",
    "    plt.bar(x, car_dict[n])\n",
    "    \n",
    "plt.bar(y_pos, 0, 10.0, align='center', color='white', edgecolor='black', label=None)\n",
    "plt.legend(car_dict)\n",
    "plt.tight_layout()\n",
    "plt.savefig(\"../Data/Images/tesla_violations.png\")\n",
    "plt.show()"
   ]
  },
  {
   "cell_type": "code",
   "execution_count": null,
   "metadata": {},
   "outputs": [],
   "source": []
  }
 ],
 "metadata": {
  "kernelspec": {
   "display_name": "Python 3",
   "language": "python",
   "name": "python3"
  },
  "language_info": {
   "codemirror_mode": {
    "name": "ipython",
    "version": 3
   },
   "file_extension": ".py",
   "mimetype": "text/x-python",
   "name": "python",
   "nbconvert_exporter": "python",
   "pygments_lexer": "ipython3",
   "version": "3.6.8"
  }
 },
 "nbformat": 4,
 "nbformat_minor": 2
}
