{
 "cells": [
  {
   "cell_type": "code",
   "execution_count": 2,
   "metadata": {},
   "outputs": [],
   "source": [
    "import numpy as np\n",
    "import pandas as pd\n",
    "import requests\n",
    "import datetime as dt\n",
<<<<<<< HEAD
    "import matplotlib.pyplot as plt\n"
=======
    "import matplotlib.pyplot as plt\n",
    "#import seaborn as sns\n",
    "#import folium\n",
    "#rom pyproj import Proj,transform\n",
    "#from folium.plugins import FastMarkerCluster\n",
    "#from folium.plugins import MarkerCluster\n",
    "#from sklearn.cluster import DBSCAN"
>>>>>>> 4a02b62e0ac60fc39ca189aec34679a40810384b
   ]
  },
  {
   "cell_type": "code",
   "execution_count": 3,
   "metadata": {},
   "outputs": [],
   "source": [
    "dataframe = pd.read_csv('C:/Users/Ujwala/Desktop/Washu/Proejct-1/Data/parking-citations.csv',parse_dates=[\"Issue Date\"],low_memory=False,nrows=50000)"
   ]
  },
  {
   "cell_type": "code",
   "execution_count": null,
<<<<<<< HEAD
   "metadata": {},
   "outputs": [],
   "source": [
    "dataframe.head(10)"
=======
   "metadata": {},
   "outputs": [],
   "source": [
    "#dataframe.head(10)"
   ]
  },
  {
   "cell_type": "code",
   "execution_count": 4,
   "metadata": {},
   "outputs": [],
   "source": [
    "dataframe=dataframe.drop(['Meter Id','Marked Time','Plate Expiry Date','VIN','Route','Agency'],axis=1)"
   ]
  },
  {
   "cell_type": "code",
   "execution_count": 5,
   "metadata": {},
   "outputs": [
    {
     "name": "stdout",
     "output_type": "stream",
     "text": [
      "<class 'pandas.core.frame.DataFrame'>\n",
      "RangeIndex: 50000 entries, 0 to 49999\n",
      "Data columns (total 3 columns):\n",
      "Ticket number    50000 non-null int64\n",
      "Issue Date       50000 non-null datetime64[ns]\n",
      "Issue time       49987 non-null float64\n",
      "dtypes: datetime64[ns](1), float64(1), int64(1)\n",
      "memory usage: 1.1 MB\n"
     ]
    }
   ],
   "source": [
    "sampleDF=dataframe[[\"Ticket number\",'Issue Date','Issue time']]\n",
    "sampleDF.info()"
   ]
  },
  {
   "cell_type": "code",
   "execution_count": 6,
   "metadata": {},
   "outputs": [
    {
     "data": {
      "text/plain": [
       "13"
      ]
     },
     "execution_count": 6,
     "metadata": {},
     "output_type": "execute_result"
    }
   ],
   "source": [
    "sampleDF['Issue time'].isna().sum()"
   ]
  },
  {
   "cell_type": "code",
   "execution_count": 8,
   "metadata": {},
   "outputs": [
    {
     "data": {
      "text/html": [
       "<div>\n",
       "<style scoped>\n",
       "    .dataframe tbody tr th:only-of-type {\n",
       "        vertical-align: middle;\n",
       "    }\n",
       "\n",
       "    .dataframe tbody tr th {\n",
       "        vertical-align: top;\n",
       "    }\n",
       "\n",
       "    .dataframe thead th {\n",
       "        text-align: right;\n",
       "    }\n",
       "</style>\n",
       "<table border=\"1\" class=\"dataframe\">\n",
       "  <thead>\n",
       "    <tr style=\"text-align: right;\">\n",
       "      <th></th>\n",
       "      <th>Ticket number</th>\n",
       "      <th>Issue Date</th>\n",
       "      <th>Issue time</th>\n",
       "    </tr>\n",
       "  </thead>\n",
       "  <tbody>\n",
       "    <tr>\n",
       "      <th>0</th>\n",
       "      <td>1103341116</td>\n",
       "      <td>2015-12-21</td>\n",
       "      <td>1251</td>\n",
       "    </tr>\n",
       "    <tr>\n",
       "      <th>1</th>\n",
       "      <td>1103700150</td>\n",
       "      <td>2015-12-21</td>\n",
       "      <td>1435</td>\n",
       "    </tr>\n",
       "    <tr>\n",
       "      <th>2</th>\n",
       "      <td>1104803000</td>\n",
       "      <td>2015-12-21</td>\n",
       "      <td>2055</td>\n",
       "    </tr>\n",
       "    <tr>\n",
       "      <th>3</th>\n",
       "      <td>1104820732</td>\n",
       "      <td>2015-12-26</td>\n",
       "      <td>1515</td>\n",
       "    </tr>\n",
       "    <tr>\n",
       "      <th>4</th>\n",
       "      <td>1105461453</td>\n",
       "      <td>2015-09-15</td>\n",
       "      <td>115</td>\n",
       "    </tr>\n",
       "    <tr>\n",
       "      <th>5</th>\n",
       "      <td>1106226590</td>\n",
       "      <td>2015-09-15</td>\n",
       "      <td>19</td>\n",
       "    </tr>\n",
       "    <tr>\n",
       "      <th>6</th>\n",
       "      <td>1106500452</td>\n",
       "      <td>2015-12-17</td>\n",
       "      <td>1710</td>\n",
       "    </tr>\n",
       "    <tr>\n",
       "      <th>7</th>\n",
       "      <td>1106500463</td>\n",
       "      <td>2015-12-17</td>\n",
       "      <td>1710</td>\n",
       "    </tr>\n",
       "    <tr>\n",
       "      <th>8</th>\n",
       "      <td>1106506402</td>\n",
       "      <td>2015-12-22</td>\n",
       "      <td>945</td>\n",
       "    </tr>\n",
       "    <tr>\n",
       "      <th>9</th>\n",
       "      <td>1106506413</td>\n",
       "      <td>2015-12-22</td>\n",
       "      <td>1100</td>\n",
       "    </tr>\n",
       "  </tbody>\n",
       "</table>\n",
       "</div>"
      ],
      "text/plain": [
       "   Ticket number Issue Date  Issue time\n",
       "0     1103341116 2015-12-21        1251\n",
       "1     1103700150 2015-12-21        1435\n",
       "2     1104803000 2015-12-21        2055\n",
       "3     1104820732 2015-12-26        1515\n",
       "4     1105461453 2015-09-15         115\n",
       "5     1106226590 2015-09-15          19\n",
       "6     1106500452 2015-12-17        1710\n",
       "7     1106500463 2015-12-17        1710\n",
       "8     1106506402 2015-12-22         945\n",
       "9     1106506413 2015-12-22        1100"
      ]
     },
     "execution_count": 8,
     "metadata": {},
     "output_type": "execute_result"
    }
   ],
   "source": [
    "sampleDF = sampleDF.dropna(subset=['Issue time'])\n",
    "sampleDF['Issue time'] = sampleDF['Issue time'].astype(int)\n",
    "sampleDF.head(10)"
   ]
  },
  {
   "cell_type": "code",
   "execution_count": 9,
   "metadata": {},
   "outputs": [],
   "source": [
    "sampleDF['Issue time'] = sampleDF['Issue time'].apply(str)\n",
    "for i,time in enumerate(sampleDF['Issue time']):\n",
    "\n",
    "    length = len(time)\n",
    "    if(length==1):\n",
    "        time=\"000\"+ time\n",
    "    elif(length==2):\n",
    "        time = \"00\" + time\n",
    "    elif(length==3):\n",
    "        time = \"0\"+ time\n",
    "    else:\n",
    "        time = time\n",
    "      \n",
    "    sampleDF.at[i,\"Issue time\"] = time"
   ]
  },
  {
   "cell_type": "code",
   "execution_count": 10,
   "metadata": {},
   "outputs": [],
   "source": [
    "sampleDF['Issue time']=pd.to_datetime(sampleDF['Issue time'],format ='%H%M').dt.time"
   ]
  },
  {
   "cell_type": "code",
   "execution_count": 18,
   "metadata": {},
   "outputs": [
    {
     "data": {
      "text/plain": [
       "0    12:51:00\n",
       "1    14:35:00\n",
       "2    20:55:00\n",
       "3    15:15:00\n",
       "4    01:15:00\n",
       "Name: Issue time, dtype: object"
      ]
     },
     "execution_count": 18,
     "metadata": {},
     "output_type": "execute_result"
    }
   ],
   "source": [
    "sampleDF['Issue time'].head()"
   ]
  },
  {
   "cell_type": "code",
   "execution_count": 15,
   "metadata": {},
   "outputs": [
    {
     "data": {
      "text/html": [
       "<div>\n",
       "<style scoped>\n",
       "    .dataframe tbody tr th:only-of-type {\n",
       "        vertical-align: middle;\n",
       "    }\n",
       "\n",
       "    .dataframe tbody tr th {\n",
       "        vertical-align: top;\n",
       "    }\n",
       "\n",
       "    .dataframe thead th {\n",
       "        text-align: right;\n",
       "    }\n",
       "</style>\n",
       "<table border=\"1\" class=\"dataframe\">\n",
       "  <thead>\n",
       "    <tr style=\"text-align: right;\">\n",
       "      <th></th>\n",
       "      <th>Ticket number</th>\n",
       "      <th>Issue time</th>\n",
       "    </tr>\n",
       "    <tr>\n",
       "      <th>Issue Date</th>\n",
       "      <th></th>\n",
       "      <th></th>\n",
       "    </tr>\n",
       "  </thead>\n",
       "  <tbody>\n",
       "    <tr>\n",
       "      <th>2015-12-30</th>\n",
       "      <td>7823</td>\n",
       "      <td>7823</td>\n",
       "    </tr>\n",
       "    <tr>\n",
       "      <th>2015-12-31</th>\n",
       "      <td>7391</td>\n",
       "      <td>7391</td>\n",
       "    </tr>\n",
       "    <tr>\n",
       "      <th>2016-01-01</th>\n",
       "      <td>938</td>\n",
       "      <td>938</td>\n",
       "    </tr>\n",
       "    <tr>\n",
       "      <th>2016-01-02</th>\n",
       "      <td>249</td>\n",
       "      <td>249</td>\n",
       "    </tr>\n",
       "    <tr>\n",
       "      <th>2016-01-03</th>\n",
       "      <td>1877</td>\n",
       "      <td>1877</td>\n",
       "    </tr>\n",
       "    <tr>\n",
       "      <th>2016-01-04</th>\n",
       "      <td>7621</td>\n",
       "      <td>7621</td>\n",
       "    </tr>\n",
       "    <tr>\n",
       "      <th>2016-01-05</th>\n",
       "      <td>5592</td>\n",
       "      <td>5592</td>\n",
       "    </tr>\n",
       "    <tr>\n",
       "      <th>2016-01-06</th>\n",
       "      <td>6660</td>\n",
       "      <td>6660</td>\n",
       "    </tr>\n",
       "    <tr>\n",
       "      <th>2016-01-07</th>\n",
       "      <td>7815</td>\n",
       "      <td>7815</td>\n",
       "    </tr>\n",
       "    <tr>\n",
       "      <th>2016-01-08</th>\n",
       "      <td>1033</td>\n",
       "      <td>1033</td>\n",
       "    </tr>\n",
       "  </tbody>\n",
       "</table>\n",
       "</div>"
      ],
      "text/plain": [
       "            Ticket number  Issue time\n",
       "Issue Date                           \n",
       "2015-12-30           7823        7823\n",
       "2015-12-31           7391        7391\n",
       "2016-01-01            938         938\n",
       "2016-01-02            249         249\n",
       "2016-01-03           1877        1877\n",
       "2016-01-04           7621        7621\n",
       "2016-01-05           5592        5592\n",
       "2016-01-06           6660        6660\n",
       "2016-01-07           7815        7815\n",
       "2016-01-08           1033        1033"
      ]
     },
     "execution_count": 15,
     "metadata": {},
     "output_type": "execute_result"
    }
   ],
   "source": [
    "DateGrpBy=sampleDF.groupby(\"Issue Date\")\n",
    "DateGrpBy.count().tail(10)\n"
   ]
  },
  {
   "cell_type": "code",
   "execution_count": 24,
   "metadata": {},
   "outputs": [
    {
     "data": {
      "text/plain": [
       "Issue time\n",
       "00:01:00    4.273807e+09\n",
       "00:02:00    4.273805e+09\n",
       "00:03:00    4.273807e+09\n",
       "00:04:00    4.274186e+09\n",
       "00:05:00    4.273291e+09\n",
       "00:06:00    4.274110e+09\n",
       "00:07:00    4.274246e+09\n",
       "00:08:00    4.274532e+09\n",
       "00:09:00    4.272584e+09\n",
       "00:10:00    4.274532e+09\n",
       "00:11:00    4.274532e+09\n",
       "00:12:00    4.274532e+09\n",
       "00:13:00    4.274178e+09\n",
       "00:14:00    4.273805e+09\n",
       "00:15:00    1.109080e+09\n",
       "00:16:00    4.273931e+09\n",
       "00:17:00    4.274392e+09\n",
       "00:18:00    4.273145e+09\n",
       "00:19:00    4.274178e+09\n",
       "00:20:00    4.274190e+09\n",
       "00:21:00    4.273219e+09\n",
       "00:22:00    4.273931e+09\n",
       "00:23:00    4.273144e+09\n",
       "00:24:00    4.274345e+09\n",
       "00:25:00    4.274472e+09\n",
       "00:26:00    4.273672e+09\n",
       "00:27:00    4.274206e+09\n",
       "00:29:00    4.274122e+09\n",
       "00:30:00    4.274122e+09\n",
       "00:31:00    4.274058e+09\n",
       "                ...     \n",
       "23:28:00    4.274069e+09\n",
       "23:29:00    4.274718e+09\n",
       "23:30:00    4.274718e+09\n",
       "23:31:00    4.274340e+09\n",
       "23:32:00    4.274340e+09\n",
       "23:33:00    4.274595e+09\n",
       "23:34:00    4.274595e+09\n",
       "23:35:00    4.274488e+09\n",
       "23:36:00    4.274488e+09\n",
       "23:37:00    4.274383e+09\n",
       "23:38:00    4.274690e+09\n",
       "23:39:00    4.274340e+09\n",
       "23:40:00    4.274718e+09\n",
       "23:41:00    4.274718e+09\n",
       "23:42:00    4.274340e+09\n",
       "23:43:00    4.274718e+09\n",
       "23:44:00    4.273807e+09\n",
       "23:45:00    4.273435e+09\n",
       "23:46:00    4.274110e+09\n",
       "23:47:00    4.272883e+09\n",
       "23:49:00    4.273262e+09\n",
       "23:50:00    4.273441e+09\n",
       "23:51:00    4.273441e+09\n",
       "23:52:00    4.273441e+09\n",
       "23:53:00    4.274058e+09\n",
       "23:54:00    4.273416e+09\n",
       "23:55:00    4.273416e+09\n",
       "23:56:00    4.274532e+09\n",
       "23:57:00    4.274532e+09\n",
       "23:59:00    4.274532e+09\n",
       "Name: Ticket number, Length: 1432, dtype: float64"
      ]
     },
     "execution_count": 24,
     "metadata": {},
     "output_type": "execute_result"
    }
   ],
   "source": [
    "DateGrpBy=sampleDF.groupby(\"Issue time\")\n",
    "DateGrpBy[\"Ticket number\"].max()"
>>>>>>> 4a02b62e0ac60fc39ca189aec34679a40810384b
   ]
  }
 ],
 "metadata": {
  "kernelspec": {
   "display_name": "Python [conda env:PythonData] *",
   "language": "python",
   "name": "conda-env-PythonData-py"
  },
  "language_info": {
   "codemirror_mode": {
    "name": "ipython",
    "version": 3
   },
   "file_extension": ".py",
   "mimetype": "text/x-python",
   "name": "python",
   "nbconvert_exporter": "python",
   "pygments_lexer": "ipython3",
   "version": "3.6.8"
  }
 },
 "nbformat": 4,
 "nbformat_minor": 2
}
