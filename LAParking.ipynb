{
 "cells": [
  {
   "cell_type": "code",
   "execution_count": 1,
   "metadata": {},
   "outputs": [],
   "source": [
    "#Import Necessary Modules\n",
    "import numpy as np \n",
    "import pandas as pd \n",
    "from pandas.tseries.holiday import USFederalHolidayCalendar\n",
    "import requests\n",
    "import json\n",
    "import csv\n",
    "import matplotlib.pyplot as plt\n",
    "import time \n",
    "import datetime\n",
    "import os"
   ]
  },
  {
   "cell_type": "code",
   "execution_count": 44,
   "metadata": {},
   "outputs": [],
   "source": [
    "# Read CSV file\n",
    "\n",
    "dataframe = pd.read_csv('../Data/parking-citations.csv',nrows=50000,parse_dates=['Issue Date'],low_memory=False)\n",
    "#dataframe.head(20) "
   ]
  },
  {
   "cell_type": "code",
   "execution_count": 45,
   "metadata": {},
   "outputs": [],
   "source": [
    "sampleDF=dataframe.drop(['Meter Id','Marked Time','Plate Expiry Date','VIN','Route','Agency'],axis=1)\n",
    "\n",
    "#sampleDF=dataframe.sample(frac=0.1, replace=True)"
   ]
  },
  {
   "cell_type": "code",
   "execution_count": null,
   "metadata": {},
   "outputs": [],
   "source": [
    "sampleDF.info()"
   ]
  },
  {
   "cell_type": "code",
   "execution_count": 46,
   "metadata": {},
   "outputs": [],
   "source": [
    "Date_time_df=sampleDF[[\"Ticket number\",\"Issue Date\",\"Issue time\"]]"
   ]
  },
  {
   "cell_type": "code",
   "execution_count": null,
   "metadata": {},
   "outputs": [],
   "source": [
    "Date_time_df.head()"
   ]
  },
  {
   "cell_type": "code",
   "execution_count": 47,
   "metadata": {},
   "outputs": [
    {
     "data": {
      "text/plain": [
       "True"
      ]
     },
     "execution_count": 47,
     "metadata": {},
     "output_type": "execute_result"
    }
   ],
   "source": [
    "Date_time_df[\"Issue time\"].isna().any()"
   ]
  },
  {
   "cell_type": "code",
   "execution_count": 48,
   "metadata": {},
   "outputs": [],
   "source": [
    "Date_time_df = Date_time_df.dropna(axis = 0, how ='any',inplace=False) "
   ]
  },
  {
   "cell_type": "code",
   "execution_count": null,
   "metadata": {},
   "outputs": [],
   "source": [
    "Date_time_df.info()"
   ]
  },
  {
   "cell_type": "code",
   "execution_count": 49,
   "metadata": {},
   "outputs": [],
   "source": [
    "Date_time_df['Issue time'] = Date_time_df.loc[:,['Issue time']].astype(int)"
   ]
  },
  {
   "cell_type": "code",
   "execution_count": 50,
   "metadata": {},
   "outputs": [],
   "source": [
    "Date_time_df['Issue time'] = Date_time_df['Issue time'].apply(str)\n",
    "\n",
    "for i,time in enumerate(Date_time_df['Issue time']):\n",
    "\n",
    "    length = len(time)\n",
    "    if(length==1):\n",
    "        time=\"000\"+ time\n",
    "    elif(length==2):\n",
    "        time = \"00\" + time\n",
    "    elif(length==3):\n",
    "        time = \"0\"+ time\n",
    "    else:\n",
    "        time = time\n",
    "    \n",
    "    Date_time_df.at[i,\"Issue time\"] = time"
   ]
  },
  {
   "cell_type": "code",
   "execution_count": 51,
   "metadata": {},
   "outputs": [],
   "source": [
    "Date_time_df['Issue time']=pd.to_datetime(Date_time_df['Issue time'],format ='%H%M').dt.time"
   ]
  },
  {
   "cell_type": "code",
   "execution_count": 52,
   "metadata": {},
   "outputs": [],
   "source": [
    "Date_time_df = Date_time_df.dropna(axis = 0, how ='any',inplace=False) \n"
   ]
  },
  {
   "cell_type": "code",
   "execution_count": null,
   "metadata": {},
   "outputs": [],
   "source": [
    "Date_time_df.info()"
   ]
  },
  {
   "cell_type": "code",
   "execution_count": 53,
   "metadata": {},
   "outputs": [],
   "source": [
    "#Date_time_df['Issue Date']=pd.to_datetime(Date_time_df['Issue Date'],format='%Y%m%d %H:%M:%S')\n",
    "#Date_time_df[\"Issue Date\"].apply(lambda x:x.strftime(\"%Y-%m-%d\"))\n",
    "#Date_time_df['Issue Date'][2]\n",
    "Date_time_df['Issue Date'] = Date_time_df['Issue Date'].apply(str)\n"
   ]
  },
  {
   "cell_type": "code",
   "execution_count": 55,
   "metadata": {},
   "outputs": [
    {
     "data": {
      "text/plain": [
       "0     2015-12-21\n",
       "1     2015-12-21\n",
       "2     2015-12-21\n",
       "3     2015-12-26\n",
       "4     2015-09-15\n",
       "5     2015-09-15\n",
       "6     2015-12-17\n",
       "7     2015-12-17\n",
       "8     2015-12-22\n",
       "9     2015-12-22\n",
       "10    2015-12-22\n",
       "11    2015-12-22\n",
       "12    2015-12-22\n",
       "13    2015-12-15\n",
       "14    2015-12-27\n",
       "Name: Issue Date, dtype: object"
      ]
     },
     "execution_count": 55,
     "metadata": {},
     "output_type": "execute_result"
    }
   ],
   "source": [
    "#Date_time_df['Issue Date'] = Date_time_df['Issue Date'].apply(str)\n",
    "\n",
    "for i,v in enumerate (Date_time_df['Issue Date']):\n",
    "    Date_time_df.at[i,'Issue Date'] = v[:10]\n",
    "    #if i<10:\n",
    "        #print(f\"{i}:{v}\")\n",
    "    \n",
    "Date_time_df['Issue Date'][0:15]"
   ]
  },
  {
   "cell_type": "code",
   "execution_count": 56,
   "metadata": {},
   "outputs": [
    {
     "data": {
      "text/html": [
       "<div>\n",
       "<style scoped>\n",
       "    .dataframe tbody tr th:only-of-type {\n",
       "        vertical-align: middle;\n",
       "    }\n",
       "\n",
       "    .dataframe tbody tr th {\n",
       "        vertical-align: top;\n",
       "    }\n",
       "\n",
       "    .dataframe thead th {\n",
       "        text-align: right;\n",
       "    }\n",
       "</style>\n",
       "<table border=\"1\" class=\"dataframe\">\n",
       "  <thead>\n",
       "    <tr style=\"text-align: right;\">\n",
       "      <th></th>\n",
       "      <th>Ticket number</th>\n",
       "      <th>Issue Date</th>\n",
       "      <th>Issue time</th>\n",
       "    </tr>\n",
       "  </thead>\n",
       "  <tbody>\n",
       "    <tr>\n",
       "      <th>0</th>\n",
       "      <td>1.103341e+09</td>\n",
       "      <td>2015-12-21</td>\n",
       "      <td>12:51:00</td>\n",
       "    </tr>\n",
       "    <tr>\n",
       "      <th>1</th>\n",
       "      <td>1.103700e+09</td>\n",
       "      <td>2015-12-21</td>\n",
       "      <td>14:35:00</td>\n",
       "    </tr>\n",
       "    <tr>\n",
       "      <th>2</th>\n",
       "      <td>1.104803e+09</td>\n",
       "      <td>2015-12-21</td>\n",
       "      <td>20:55:00</td>\n",
       "    </tr>\n",
       "    <tr>\n",
       "      <th>3</th>\n",
       "      <td>1.104821e+09</td>\n",
       "      <td>2015-12-26</td>\n",
       "      <td>15:15:00</td>\n",
       "    </tr>\n",
       "    <tr>\n",
       "      <th>4</th>\n",
       "      <td>1.105461e+09</td>\n",
       "      <td>2015-09-15</td>\n",
       "      <td>01:15:00</td>\n",
       "    </tr>\n",
       "  </tbody>\n",
       "</table>\n",
       "</div>"
      ],
      "text/plain": [
       "   Ticket number  Issue Date Issue time\n",
       "0   1.103341e+09  2015-12-21   12:51:00\n",
       "1   1.103700e+09  2015-12-21   14:35:00\n",
       "2   1.104803e+09  2015-12-21   20:55:00\n",
       "3   1.104821e+09  2015-12-26   15:15:00\n",
       "4   1.105461e+09  2015-09-15   01:15:00"
      ]
     },
     "execution_count": 56,
     "metadata": {},
     "output_type": "execute_result"
    }
   ],
   "source": [
    "#Date_time_df['Issue Date'] = Date_time_df['Issue Date'].apply(str)\n",
    "Date_time_df.head()"
   ]
  },
  {
   "cell_type": "code",
   "execution_count": 57,
   "metadata": {},
   "outputs": [
    {
     "name": "stdout",
     "output_type": "stream",
     "text": [
      "<class 'pandas.core.frame.DataFrame'>\n",
      "Int64Index: 49987 entries, 0 to 49999\n",
      "Data columns (total 4 columns):\n",
      "Ticket number    49987 non-null float64\n",
      "Issue Date       49987 non-null object\n",
      "Issue time       49987 non-null object\n",
      "DateTime         49987 non-null object\n",
      "dtypes: float64(1), object(3)\n",
      "memory usage: 1.9+ MB\n"
     ]
    }
   ],
   "source": [
    "#combining Date and time column\n",
    "Date_time_df['DateTime']=Date_time_df['Issue Date'].astype(str) +\" \"+ Date_time_df['Issue time'].astype(str)\n",
    "Date_time_df = Date_time_df.dropna(axis = 0, how ='any',inplace=False) \n",
    "Date_time_df.info()"
   ]
  },
  {
   "cell_type": "code",
   "execution_count": 58,
   "metadata": {},
   "outputs": [],
   "source": [
    "#Converting str object to datetime \n",
    "Date_time_df['DateTime']=pd.to_datetime(Date_time_df['DateTime'])\n",
    "#Date_time_df.info()"
   ]
  },
  {
   "cell_type": "code",
   "execution_count": 59,
   "metadata": {},
   "outputs": [],
   "source": [
    "#Creating new dataframe to store only ticket number and DateTime index\n",
    "DatetimeDF=Date_time_df.copy()\n",
    "DatetimeDF=DatetimeDF[[\"Ticket number\",\"DateTime\"]]\n",
    "#DatetimeDF.head()\n"
   ]
  },
  {
   "cell_type": "code",
   "execution_count": 60,
   "metadata": {},
   "outputs": [],
   "source": [
    "#Setting Index to Datetime column \n",
    "DatetimeDF=(DatetimeDF.set_index([\"DateTime\"]))\n",
    "#DatetimeDF.head()"
   ]
  },
  {
   "cell_type": "code",
   "execution_count": 61,
   "metadata": {},
   "outputs": [
    {
     "data": {
      "text/html": [
       "<div>\n",
       "<style scoped>\n",
       "    .dataframe tbody tr th:only-of-type {\n",
       "        vertical-align: middle;\n",
       "    }\n",
       "\n",
       "    .dataframe tbody tr th {\n",
       "        vertical-align: top;\n",
       "    }\n",
       "\n",
       "    .dataframe thead th {\n",
       "        text-align: right;\n",
       "    }\n",
       "</style>\n",
       "<table border=\"1\" class=\"dataframe\">\n",
       "  <thead>\n",
       "    <tr style=\"text-align: right;\">\n",
       "      <th></th>\n",
       "      <th>Ticket number</th>\n",
       "    </tr>\n",
       "    <tr>\n",
       "      <th>DateTime</th>\n",
       "      <th></th>\n",
       "    </tr>\n",
       "  </thead>\n",
       "  <tbody>\n",
       "    <tr>\n",
       "      <th>2016-01-02 12:03:00</th>\n",
       "      <td>4.273465e+09</td>\n",
       "    </tr>\n",
       "    <tr>\n",
       "      <th>2016-01-02 12:21:00</th>\n",
       "      <td>4.273465e+09</td>\n",
       "    </tr>\n",
       "    <tr>\n",
       "      <th>2015-12-30 14:06:00</th>\n",
       "      <td>4.273465e+09</td>\n",
       "    </tr>\n",
       "    <tr>\n",
       "      <th>2016-01-08 14:11:00</th>\n",
       "      <td>4.273465e+09</td>\n",
       "    </tr>\n",
       "    <tr>\n",
       "      <th>2016-01-08 14:18:00</th>\n",
       "      <td>4.273465e+09</td>\n",
       "    </tr>\n",
       "  </tbody>\n",
       "</table>\n",
       "</div>"
      ],
      "text/plain": [
       "                     Ticket number\n",
       "DateTime                          \n",
       "2016-01-02 12:03:00   4.273465e+09\n",
       "2016-01-02 12:21:00   4.273465e+09\n",
       "2015-12-30 14:06:00   4.273465e+09\n",
       "2016-01-08 14:11:00   4.273465e+09\n",
       "2016-01-08 14:18:00   4.273465e+09"
      ]
     },
     "execution_count": 61,
     "metadata": {},
     "output_type": "execute_result"
    }
   ],
   "source": [
    "DatetimeDF.tail()"
   ]
  },
  {
   "cell_type": "code",
   "execution_count": 70,
   "metadata": {},
   "outputs": [],
   "source": [
    "TimeDF=pd.DataFrame()\n"
   ]
  },
  {
   "cell_type": "code",
   "execution_count": 72,
   "metadata": {},
   "outputs": [
    {
     "data": {
      "text/html": [
       "<div>\n",
       "<style scoped>\n",
       "    .dataframe tbody tr th:only-of-type {\n",
       "        vertical-align: middle;\n",
       "    }\n",
       "\n",
       "    .dataframe tbody tr th {\n",
       "        vertical-align: top;\n",
       "    }\n",
       "\n",
       "    .dataframe thead th {\n",
       "        text-align: right;\n",
       "    }\n",
       "</style>\n",
       "<table border=\"1\" class=\"dataframe\">\n",
       "  <thead>\n",
       "    <tr style=\"text-align: right;\">\n",
       "      <th></th>\n",
       "      <th>DT count</th>\n",
       "    </tr>\n",
       "    <tr>\n",
       "      <th>DateTime</th>\n",
       "      <th></th>\n",
       "    </tr>\n",
       "  </thead>\n",
       "  <tbody>\n",
       "    <tr>\n",
       "      <th>2015-12-30 08:00:00</th>\n",
       "      <td>1313</td>\n",
       "    </tr>\n",
       "    <tr>\n",
       "      <th>2015-12-31 08:00:00</th>\n",
       "      <td>1269</td>\n",
       "    </tr>\n",
       "    <tr>\n",
       "      <th>2015-12-31 10:00:00</th>\n",
       "      <td>1225</td>\n",
       "    </tr>\n",
       "    <tr>\n",
       "      <th>2016-01-07 10:00:00</th>\n",
       "      <td>1106</td>\n",
       "    </tr>\n",
       "    <tr>\n",
       "      <th>2016-01-07 08:00:00</th>\n",
       "      <td>1099</td>\n",
       "    </tr>\n",
       "    <tr>\n",
       "      <th>2016-01-07 12:00:00</th>\n",
       "      <td>1096</td>\n",
       "    </tr>\n",
       "    <tr>\n",
       "      <th>2016-01-04 08:00:00</th>\n",
       "      <td>1035</td>\n",
       "    </tr>\n",
       "    <tr>\n",
       "      <th>2016-01-04 12:00:00</th>\n",
       "      <td>1030</td>\n",
       "    </tr>\n",
       "    <tr>\n",
       "      <th>2015-12-30 12:00:00</th>\n",
       "      <td>1025</td>\n",
       "    </tr>\n",
       "    <tr>\n",
       "      <th>2016-01-04 10:00:00</th>\n",
       "      <td>1019</td>\n",
       "    </tr>\n",
       "    <tr>\n",
       "      <th>2016-01-06 08:00:00</th>\n",
       "      <td>973</td>\n",
       "    </tr>\n",
       "    <tr>\n",
       "      <th>2015-12-30 10:00:00</th>\n",
       "      <td>953</td>\n",
       "    </tr>\n",
       "    <tr>\n",
       "      <th>2015-12-31 12:00:00</th>\n",
       "      <td>807</td>\n",
       "    </tr>\n",
       "    <tr>\n",
       "      <th>2015-12-31 09:00:00</th>\n",
       "      <td>779</td>\n",
       "    </tr>\n",
       "    <tr>\n",
       "      <th>2016-01-06 10:00:00</th>\n",
       "      <td>778</td>\n",
       "    </tr>\n",
       "    <tr>\n",
       "      <th>2016-01-06 12:00:00</th>\n",
       "      <td>760</td>\n",
       "    </tr>\n",
       "    <tr>\n",
       "      <th>2015-12-30 11:00:00</th>\n",
       "      <td>693</td>\n",
       "    </tr>\n",
       "    <tr>\n",
       "      <th>2016-01-07 11:00:00</th>\n",
       "      <td>632</td>\n",
       "    </tr>\n",
       "    <tr>\n",
       "      <th>2016-01-04 11:00:00</th>\n",
       "      <td>620</td>\n",
       "    </tr>\n",
       "    <tr>\n",
       "      <th>2015-12-31 11:00:00</th>\n",
       "      <td>589</td>\n",
       "    </tr>\n",
       "  </tbody>\n",
       "</table>\n",
       "</div>"
      ],
      "text/plain": [
       "                     DT count\n",
       "DateTime                     \n",
       "2015-12-30 08:00:00      1313\n",
       "2015-12-31 08:00:00      1269\n",
       "2015-12-31 10:00:00      1225\n",
       "2016-01-07 10:00:00      1106\n",
       "2016-01-07 08:00:00      1099\n",
       "2016-01-07 12:00:00      1096\n",
       "2016-01-04 08:00:00      1035\n",
       "2016-01-04 12:00:00      1030\n",
       "2015-12-30 12:00:00      1025\n",
       "2016-01-04 10:00:00      1019\n",
       "2016-01-06 08:00:00       973\n",
       "2015-12-30 10:00:00       953\n",
       "2015-12-31 12:00:00       807\n",
       "2015-12-31 09:00:00       779\n",
       "2016-01-06 10:00:00       778\n",
       "2016-01-06 12:00:00       760\n",
       "2015-12-30 11:00:00       693\n",
       "2016-01-07 11:00:00       632\n",
       "2016-01-04 11:00:00       620\n",
       "2015-12-31 11:00:00       589"
      ]
     },
     "execution_count": 72,
     "metadata": {},
     "output_type": "execute_result"
    }
   ],
   "source": [
    "#What time is more ciatation have been given?\n",
    "\n",
    "TimeDF[\"DT count\"]=DatetimeDF[\"Ticket number\"].resample('H').count()\n",
    "TimeDF.nlargest(20, \"DT count\", keep='first')"
   ]
  },
  {
   "cell_type": "code",
   "execution_count": 97,
   "metadata": {},
   "outputs": [
    {
     "data": {
      "text/plain": [
       "<matplotlib.axes._subplots.AxesSubplot at 0x1fc433f17f0>"
      ]
     },
     "execution_count": 97,
     "metadata": {},
     "output_type": "execute_result"
    },
    {
     "data": {
      "image/png": "[encoded data removed]",
      "text/plain": [
       "<Figure size 432x288 with 1 Axes>"
      ]
     },
     "metadata": {
      "needs_background": "light"
     },
     "output_type": "display_data"
    }
   ],
   "source": [
    "TimeDF.nlargest(20, \"DT count\", keep='first').plot(kind='bar')"
   ]
  },
  {
   "cell_type": "code",
   "execution_count": 74,
   "metadata": {},
   "outputs": [
    {
     "data": {
      "text/html": [
       "<div>\n",
       "<style scoped>\n",
       "    .dataframe tbody tr th:only-of-type {\n",
       "        vertical-align: middle;\n",
       "    }\n",
       "\n",
       "    .dataframe tbody tr th {\n",
       "        vertical-align: top;\n",
       "    }\n",
       "\n",
       "    .dataframe thead th {\n",
       "        text-align: right;\n",
       "    }\n",
       "</style>\n",
       "<table border=\"1\" class=\"dataframe\">\n",
       "  <thead>\n",
       "    <tr style=\"text-align: right;\">\n",
       "      <th></th>\n",
       "      <th>Ticket number</th>\n",
       "      <th>Issue Date</th>\n",
       "      <th>Issue time</th>\n",
       "      <th>DateTime</th>\n",
       "      <th>day_of_week</th>\n",
       "    </tr>\n",
       "  </thead>\n",
       "  <tbody>\n",
       "    <tr>\n",
       "      <th>0</th>\n",
       "      <td>1.103341e+09</td>\n",
       "      <td>2015-12-21</td>\n",
       "      <td>12:51:00</td>\n",
       "      <td>2015-12-21 12:51:00</td>\n",
       "      <td>Monday</td>\n",
       "    </tr>\n",
       "    <tr>\n",
       "      <th>1</th>\n",
       "      <td>1.103700e+09</td>\n",
       "      <td>2015-12-21</td>\n",
       "      <td>14:35:00</td>\n",
       "      <td>2015-12-21 14:35:00</td>\n",
       "      <td>Monday</td>\n",
       "    </tr>\n",
       "    <tr>\n",
       "      <th>2</th>\n",
       "      <td>1.104803e+09</td>\n",
       "      <td>2015-12-21</td>\n",
       "      <td>20:55:00</td>\n",
       "      <td>2015-12-21 20:55:00</td>\n",
       "      <td>Monday</td>\n",
       "    </tr>\n",
       "    <tr>\n",
       "      <th>3</th>\n",
       "      <td>1.104821e+09</td>\n",
       "      <td>2015-12-26</td>\n",
       "      <td>15:15:00</td>\n",
       "      <td>2015-12-26 15:15:00</td>\n",
       "      <td>Saturday</td>\n",
       "    </tr>\n",
       "    <tr>\n",
       "      <th>4</th>\n",
       "      <td>1.105461e+09</td>\n",
       "      <td>2015-09-15</td>\n",
       "      <td>01:15:00</td>\n",
       "      <td>2015-09-15 01:15:00</td>\n",
       "      <td>Tuesday</td>\n",
       "    </tr>\n",
       "  </tbody>\n",
       "</table>\n",
       "</div>"
      ],
      "text/plain": [
       "   Ticket number  Issue Date Issue time            DateTime day_of_week\n",
       "0   1.103341e+09  2015-12-21   12:51:00 2015-12-21 12:51:00      Monday\n",
       "1   1.103700e+09  2015-12-21   14:35:00 2015-12-21 14:35:00      Monday\n",
       "2   1.104803e+09  2015-12-21   20:55:00 2015-12-21 20:55:00      Monday\n",
       "3   1.104821e+09  2015-12-26   15:15:00 2015-12-26 15:15:00    Saturday\n",
       "4   1.105461e+09  2015-09-15   01:15:00 2015-09-15 01:15:00     Tuesday"
      ]
     },
     "execution_count": 74,
     "metadata": {},
     "output_type": "execute_result"
    }
   ],
   "source": [
    "#Add weekday column\n",
    "Date_time_df['day_of_week'] =pd.to_datetime( Date_time_df['Issue Date']).dt.day_name()\n",
    "Date_time_df.head()"
   ]
  },
  {
   "cell_type": "code",
   "execution_count": 81,
   "metadata": {},
   "outputs": [
    {
     "data": {
      "text/plain": [
       "DatetimeIndex(['2015-12-21', '2015-12-21', '2015-12-21', '2015-12-26',\n",
       "               '2015-09-15', '2015-09-15', '2015-12-17', '2015-12-17',\n",
       "               '2015-12-22', '2015-12-22',\n",
       "               ...\n",
       "               '2015-12-16', '2015-12-02', '2016-01-02', '2015-12-27',\n",
       "               '2015-12-24', '2016-01-02', '2016-01-02', '2015-12-30',\n",
       "               '2016-01-08', '2016-01-08'],\n",
       "              dtype='datetime64[ns]', name='Issue Date', length=49987, freq=None)"
      ]
     },
     "execution_count": 81,
     "metadata": {},
     "output_type": "execute_result"
    }
   ],
   "source": [
    "Date_time_df['Issue Date']=pd.to_datetime( Date_time_df['Issue Date'])\n",
    "ModDF=Date_time_df.set_index([\"Issue Date\"])\n",
    "ModDF.index"
   ]
  },
  {
   "cell_type": "code",
   "execution_count": 94,
   "metadata": {},
   "outputs": [],
   "source": [
    "MonthlyDF=pd.DataFrame()\n"
   ]
  },
  {
   "cell_type": "code",
   "execution_count": 95,
   "metadata": {},
   "outputs": [
    {
     "data": {
      "text/html": [
       "<div>\n",
       "<style scoped>\n",
       "    .dataframe tbody tr th:only-of-type {\n",
       "        vertical-align: middle;\n",
       "    }\n",
       "\n",
       "    .dataframe tbody tr th {\n",
       "        vertical-align: top;\n",
       "    }\n",
       "\n",
       "    .dataframe thead th {\n",
       "        text-align: right;\n",
       "    }\n",
       "</style>\n",
       "<table border=\"1\" class=\"dataframe\">\n",
       "  <thead>\n",
       "    <tr style=\"text-align: right;\">\n",
       "      <th></th>\n",
       "      <th>Ticket Count</th>\n",
       "    </tr>\n",
       "    <tr>\n",
       "      <th>Issue Date</th>\n",
       "      <th></th>\n",
       "    </tr>\n",
       "  </thead>\n",
       "  <tbody>\n",
       "    <tr>\n",
       "      <th>2016-01-31</th>\n",
       "      <td>31794</td>\n",
       "    </tr>\n",
       "    <tr>\n",
       "      <th>2015-12-31</th>\n",
       "      <td>17956</td>\n",
       "    </tr>\n",
       "    <tr>\n",
       "      <th>2015-11-30</th>\n",
       "      <td>117</td>\n",
       "    </tr>\n",
       "    <tr>\n",
       "      <th>2015-09-30</th>\n",
       "      <td>104</td>\n",
       "    </tr>\n",
       "    <tr>\n",
       "      <th>2015-01-31</th>\n",
       "      <td>7</td>\n",
       "    </tr>\n",
       "    <tr>\n",
       "      <th>2015-08-31</th>\n",
       "      <td>3</td>\n",
       "    </tr>\n",
       "    <tr>\n",
       "      <th>2015-10-31</th>\n",
       "      <td>3</td>\n",
       "    </tr>\n",
       "    <tr>\n",
       "      <th>2012-12-31</th>\n",
       "      <td>1</td>\n",
       "    </tr>\n",
       "    <tr>\n",
       "      <th>2013-01-31</th>\n",
       "      <td>1</td>\n",
       "    </tr>\n",
       "    <tr>\n",
       "      <th>2015-05-31</th>\n",
       "      <td>1</td>\n",
       "    </tr>\n",
       "    <tr>\n",
       "      <th>2013-02-28</th>\n",
       "      <td>0</td>\n",
       "    </tr>\n",
       "    <tr>\n",
       "      <th>2013-03-31</th>\n",
       "      <td>0</td>\n",
       "    </tr>\n",
       "    <tr>\n",
       "      <th>2013-04-30</th>\n",
       "      <td>0</td>\n",
       "    </tr>\n",
       "    <tr>\n",
       "      <th>2013-05-31</th>\n",
       "      <td>0</td>\n",
       "    </tr>\n",
       "    <tr>\n",
       "      <th>2013-06-30</th>\n",
       "      <td>0</td>\n",
       "    </tr>\n",
       "    <tr>\n",
       "      <th>2013-07-31</th>\n",
       "      <td>0</td>\n",
       "    </tr>\n",
       "    <tr>\n",
       "      <th>2013-08-31</th>\n",
       "      <td>0</td>\n",
       "    </tr>\n",
       "    <tr>\n",
       "      <th>2013-09-30</th>\n",
       "      <td>0</td>\n",
       "    </tr>\n",
       "    <tr>\n",
       "      <th>2013-10-31</th>\n",
       "      <td>0</td>\n",
       "    </tr>\n",
       "    <tr>\n",
       "      <th>2013-11-30</th>\n",
       "      <td>0</td>\n",
       "    </tr>\n",
       "  </tbody>\n",
       "</table>\n",
       "</div>"
      ],
      "text/plain": [
       "            Ticket Count\n",
       "Issue Date              \n",
       "2016-01-31         31794\n",
       "2015-12-31         17956\n",
       "2015-11-30           117\n",
       "2015-09-30           104\n",
       "2015-01-31             7\n",
       "2015-08-31             3\n",
       "2015-10-31             3\n",
       "2012-12-31             1\n",
       "2013-01-31             1\n",
       "2015-05-31             1\n",
       "2013-02-28             0\n",
       "2013-03-31             0\n",
       "2013-04-30             0\n",
       "2013-05-31             0\n",
       "2013-06-30             0\n",
       "2013-07-31             0\n",
       "2013-08-31             0\n",
       "2013-09-30             0\n",
       "2013-10-31             0\n",
       "2013-11-30             0"
      ]
     },
     "execution_count": 95,
     "metadata": {},
     "output_type": "execute_result"
    }
   ],
   "source": [
    " #which month has more citations?\n",
    "MonthlyDF[\"Ticket Count\"]=ModDF[\"Ticket number\"].resample('M').count()\n",
    "MonthlyDF.nlargest(20, \"Ticket Count\", keep='first')\n",
    "#MonthlyDF.head()"
   ]
  },
  {
   "cell_type": "code",
   "execution_count": 91,
   "metadata": {},
   "outputs": [
    {
     "data": {
      "text/plain": [
       "<matplotlib.axes._subplots.AxesSubplot at 0x1fc42bc36a0>"
      ]
     },
     "execution_count": 91,
     "metadata": {},
     "output_type": "execute_result"
    },
    {
     "data": {
      "image/png": "[encoded data removed]",
      "text/plain": [
       "<Figure size 432x288 with 1 Axes>"
      ]
     },
     "metadata": {
      "needs_background": "light"
     },
     "output_type": "display_data"
    }
   ],
   "source": [
    "#MonthlyDF Ticket graph\n",
    "MonthlyDF.nlargest(20, \"Ticket Count\", keep='first').plot(kind='bar')"
   ]
  },
  {
   "cell_type": "code",
   "execution_count": 87,
   "metadata": {},
   "outputs": [
    {
     "data": {
      "text/plain": [
       "314.3836477987421"
      ]
     },
     "execution_count": 87,
     "metadata": {},
     "output_type": "execute_result"
    }
   ],
   "source": [
    "#How many tickets are given on an avarage every week\n",
    "\n",
    "ModDF[\"Ticket number\"].resample('W').count().mean()"
   ]
  },
  {
   "cell_type": "code",
   "execution_count": 88,
   "metadata": {},
   "outputs": [
    {
     "data": {
      "text/html": [
       "<div>\n",
       "<style scoped>\n",
       "    .dataframe tbody tr th:only-of-type {\n",
       "        vertical-align: middle;\n",
       "    }\n",
       "\n",
       "    .dataframe tbody tr th {\n",
       "        vertical-align: top;\n",
       "    }\n",
       "\n",
       "    .dataframe thead th {\n",
       "        text-align: right;\n",
       "    }\n",
       "</style>\n",
       "<table border=\"1\" class=\"dataframe\">\n",
       "  <thead>\n",
       "    <tr style=\"text-align: right;\">\n",
       "      <th></th>\n",
       "      <th>Ticket count</th>\n",
       "    </tr>\n",
       "    <tr>\n",
       "      <th>Issue Date</th>\n",
       "      <th></th>\n",
       "    </tr>\n",
       "  </thead>\n",
       "  <tbody>\n",
       "    <tr>\n",
       "      <th>2015-12-30</th>\n",
       "      <td>7822</td>\n",
       "    </tr>\n",
       "    <tr>\n",
       "      <th>2016-01-07</th>\n",
       "      <td>7815</td>\n",
       "    </tr>\n",
       "    <tr>\n",
       "      <th>2016-01-04</th>\n",
       "      <td>7621</td>\n",
       "    </tr>\n",
       "    <tr>\n",
       "      <th>2015-12-31</th>\n",
       "      <td>7391</td>\n",
       "    </tr>\n",
       "    <tr>\n",
       "      <th>2016-01-06</th>\n",
       "      <td>6660</td>\n",
       "    </tr>\n",
       "    <tr>\n",
       "      <th>2016-01-05</th>\n",
       "      <td>5592</td>\n",
       "    </tr>\n",
       "    <tr>\n",
       "      <th>2016-01-03</th>\n",
       "      <td>1877</td>\n",
       "    </tr>\n",
       "    <tr>\n",
       "      <th>2016-01-08</th>\n",
       "      <td>1044</td>\n",
       "    </tr>\n",
       "    <tr>\n",
       "      <th>2016-01-01</th>\n",
       "      <td>938</td>\n",
       "    </tr>\n",
       "    <tr>\n",
       "      <th>2015-12-29</th>\n",
       "      <td>538</td>\n",
       "    </tr>\n",
       "    <tr>\n",
       "      <th>2015-12-28</th>\n",
       "      <td>371</td>\n",
       "    </tr>\n",
       "    <tr>\n",
       "      <th>2015-12-24</th>\n",
       "      <td>257</td>\n",
       "    </tr>\n",
       "    <tr>\n",
       "      <th>2016-01-02</th>\n",
       "      <td>247</td>\n",
       "    </tr>\n",
       "    <tr>\n",
       "      <th>2015-12-27</th>\n",
       "      <td>198</td>\n",
       "    </tr>\n",
       "    <tr>\n",
       "      <th>2015-12-21</th>\n",
       "      <td>152</td>\n",
       "    </tr>\n",
       "    <tr>\n",
       "      <th>2015-12-20</th>\n",
       "      <td>131</td>\n",
       "    </tr>\n",
       "    <tr>\n",
       "      <th>2015-12-25</th>\n",
       "      <td>127</td>\n",
       "    </tr>\n",
       "    <tr>\n",
       "      <th>2015-12-22</th>\n",
       "      <td>115</td>\n",
       "    </tr>\n",
       "    <tr>\n",
       "      <th>2015-12-26</th>\n",
       "      <td>112</td>\n",
       "    </tr>\n",
       "    <tr>\n",
       "      <th>2015-12-23</th>\n",
       "      <td>101</td>\n",
       "    </tr>\n",
       "  </tbody>\n",
       "</table>\n",
       "</div>"
      ],
      "text/plain": [
       "            Ticket count\n",
       "Issue Date              \n",
       "2015-12-30          7822\n",
       "2016-01-07          7815\n",
       "2016-01-04          7621\n",
       "2015-12-31          7391\n",
       "2016-01-06          6660\n",
       "2016-01-05          5592\n",
       "2016-01-03          1877\n",
       "2016-01-08          1044\n",
       "2016-01-01           938\n",
       "2015-12-29           538\n",
       "2015-12-28           371\n",
       "2015-12-24           257\n",
       "2016-01-02           247\n",
       "2015-12-27           198\n",
       "2015-12-21           152\n",
       "2015-12-20           131\n",
       "2015-12-25           127\n",
       "2015-12-22           115\n",
       "2015-12-26           112\n",
       "2015-12-23           101"
      ]
     },
     "execution_count": 88,
     "metadata": {},
     "output_type": "execute_result"
    }
   ],
   "source": [
    "#How many Max tickets are given on a day\n",
    "DailyDF=pd.DataFrame()\n",
    "DailyDF[\"Ticket count\"]=ModDF[\"Ticket number\"].resample('D').count()\n",
    "\n",
    "#ModDF.nlargest(30,\"Ticket count\",keep=\"first\")\n",
    "#DalyDF.nlargest(20,\"Ticket count\",keep=\"first\").plot(kind='bar')\n",
    "DailyDF.nlargest(20,\"Ticket count\",keep=\"first\")"
   ]
  },
  {
   "cell_type": "code",
   "execution_count": 90,
   "metadata": {},
   "outputs": [
    {
     "data": {
      "text/plain": [
       "<matplotlib.axes._subplots.AxesSubplot at 0x1fc42a72d68>"
      ]
     },
     "execution_count": 90,
     "metadata": {},
     "output_type": "execute_result"
    },
    {
     "data": {
      "image/png": "[encoded data removed]",
      "text/plain": [
       "<Figure size 432x288 with 1 Axes>"
      ]
     },
     "metadata": {
      "needs_background": "light"
     },
     "output_type": "display_data"
    }
   ],
   "source": [
    "#Daily Ticket graph\n",
    "DailyDF.nlargest(20,\"Ticket count\",keep=\"first\").plot(kind='bar')"
   ]
  },
  {
   "cell_type": "code",
   "execution_count": null,
   "metadata": {},
   "outputs": [],
   "source": []
  },
  {
   "cell_type": "code",
   "execution_count": null,
   "metadata": {},
   "outputs": [],
   "source": []
  },
  {
   "cell_type": "code",
   "execution_count": null,
   "metadata": {},
   "outputs": [],
   "source": []
  },
  {
   "cell_type": "code",
   "execution_count": null,
   "metadata": {},
   "outputs": [],
   "source": []
  },
  {
   "cell_type": "code",
   "execution_count": null,
   "metadata": {},
   "outputs": [],
   "source": []
  },
  {
   "cell_type": "code",
   "execution_count": null,
   "metadata": {},
   "outputs": [],
   "source": []
  }
 ],
 "metadata": {
  "kernelspec": {
   "display_name": "Python [conda env:PythonData] *",
   "language": "python",
   "name": "conda-env-PythonData-py"
  },
  "language_info": {
   "codemirror_mode": {
    "name": "ipython",
    "version": 3
   },
   "file_extension": ".py",
   "mimetype": "text/x-python",
   "name": "python",
   "nbconvert_exporter": "python",
   "pygments_lexer": "ipython3",
   "version": "3.6.8"
  }
 },
 "nbformat": 4,
 "nbformat_minor": 2
}
