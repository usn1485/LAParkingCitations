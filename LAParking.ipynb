{
 "cells": [
  {
   "cell_type": "code",
   "execution_count": 1,
   "metadata": {},
   "outputs": [],
   "source": [
    "\n",
    "import numpy as np # linear algebra\n",
    "import pandas as pd # data processing, CSV file I/O (e.g. pd.read_csv)\n",
    "import requests\n",
    "import json\n",
    "import csv\n",
    "import matplotlib.pyplot as plt\n",
    "import time \n",
    "import datetime\n",
    "import os"
   ]
  },
  {
   "cell_type": "code",
   "execution_count": 2,
   "metadata": {},
   "outputs": [],
   "source": [
    "# Read CSV file\n",
    "\n",
    "dataframe = pd.read_csv('../Data/parking-citations.csv',nrows=50000,parse_dates=['Issue Date'],low_memory=False)\n",
    "#dataframe.head(20) "
   ]
  },
  {
   "cell_type": "code",
   "execution_count": 3,
   "metadata": {},
   "outputs": [],
   "source": [
    "sampleDF=dataframe.drop(['Meter Id','Marked Time','Plate Expiry Date','VIN','Route','Agency'],axis=1)\n",
    "\n",
    "#sampleDF=dataframe.sample(frac=0.1, replace=True)"
   ]
  },
  {
   "cell_type": "code",
   "execution_count": 5,
   "metadata": {},
   "outputs": [
    {
     "name": "stdout",
     "output_type": "stream",
     "text": [
      "<class 'pandas.core.frame.DataFrame'>\n",
      "RangeIndex: 50000 entries, 0 to 49999\n",
      "Data columns (total 13 columns):\n",
      "Ticket number            50000 non-null int64\n",
      "Issue Date               50000 non-null datetime64[ns]\n",
      "Issue time               49987 non-null float64\n",
      "RP State Plate           50000 non-null object\n",
      "Make                     49950 non-null object\n",
      "Body Style               49952 non-null object\n",
      "Color                    49962 non-null object\n",
      "Location                 49999 non-null object\n",
      "Violation code           50000 non-null object\n",
      "Violation Description    49996 non-null object\n",
      "Fine amount              49937 non-null float64\n",
      "Latitude                 50000 non-null float64\n",
      "Longitude                50000 non-null float64\n",
      "dtypes: datetime64[ns](1), float64(4), int64(1), object(7)\n",
      "memory usage: 5.0+ MB\n"
     ]
    }
   ],
   "source": [
    "sampleDF.info()"
   ]
  },
  {
   "cell_type": "code",
   "execution_count": 21,
   "metadata": {},
   "outputs": [],
   "source": [
    "Date_time_df=sampleDF[[\"Ticket number\",\"Issue Date\",\"Issue time\"]]"
   ]
  },
  {
   "cell_type": "code",
   "execution_count": 22,
   "metadata": {},
   "outputs": [
    {
     "data": {
      "text/html": [
       "<div>\n",
       "<style scoped>\n",
       "    .dataframe tbody tr th:only-of-type {\n",
       "        vertical-align: middle;\n",
       "    }\n",
       "\n",
       "    .dataframe tbody tr th {\n",
       "        vertical-align: top;\n",
       "    }\n",
       "\n",
       "    .dataframe thead th {\n",
       "        text-align: right;\n",
       "    }\n",
       "</style>\n",
       "<table border=\"1\" class=\"dataframe\">\n",
       "  <thead>\n",
       "    <tr style=\"text-align: right;\">\n",
       "      <th></th>\n",
       "      <th>Ticket number</th>\n",
       "      <th>Issue Date</th>\n",
       "      <th>Issue time</th>\n",
       "    </tr>\n",
       "  </thead>\n",
       "  <tbody>\n",
       "    <tr>\n",
       "      <th>0</th>\n",
       "      <td>1103341116</td>\n",
       "      <td>2015-12-21</td>\n",
       "      <td>1251.0</td>\n",
       "    </tr>\n",
       "    <tr>\n",
       "      <th>1</th>\n",
       "      <td>1103700150</td>\n",
       "      <td>2015-12-21</td>\n",
       "      <td>1435.0</td>\n",
       "    </tr>\n",
       "    <tr>\n",
       "      <th>2</th>\n",
       "      <td>1104803000</td>\n",
       "      <td>2015-12-21</td>\n",
       "      <td>2055.0</td>\n",
       "    </tr>\n",
       "    <tr>\n",
       "      <th>3</th>\n",
       "      <td>1104820732</td>\n",
       "      <td>2015-12-26</td>\n",
       "      <td>1515.0</td>\n",
       "    </tr>\n",
       "    <tr>\n",
       "      <th>4</th>\n",
       "      <td>1105461453</td>\n",
       "      <td>2015-09-15</td>\n",
       "      <td>115.0</td>\n",
       "    </tr>\n",
       "  </tbody>\n",
       "</table>\n",
       "</div>"
      ],
      "text/plain": [
       "   Ticket number Issue Date  Issue time\n",
       "0     1103341116 2015-12-21      1251.0\n",
       "1     1103700150 2015-12-21      1435.0\n",
       "2     1104803000 2015-12-21      2055.0\n",
       "3     1104820732 2015-12-26      1515.0\n",
       "4     1105461453 2015-09-15       115.0"
      ]
     },
     "execution_count": 22,
     "metadata": {},
     "output_type": "execute_result"
    }
   ],
   "source": [
    "Date_time_df.head()"
   ]
  },
  {
   "cell_type": "code",
   "execution_count": 23,
   "metadata": {},
   "outputs": [
    {
     "data": {
      "text/plain": [
       "True"
      ]
     },
     "execution_count": 23,
     "metadata": {},
     "output_type": "execute_result"
    }
   ],
   "source": [
    "Date_time_df[\"Issue time\"].isna().any()"
   ]
  },
  {
   "cell_type": "code",
   "execution_count": 24,
   "metadata": {},
   "outputs": [],
   "source": [
    "Date_time_df = Date_time_df.dropna(subset=['Issue time'])"
   ]
  },
  {
   "cell_type": "code",
   "execution_count": 25,
   "metadata": {},
   "outputs": [],
   "source": [
    "Date_time_df['Issue time'] = Date_time_df.loc[:,['Issue time']].astype(int)"
   ]
  },
  {
   "cell_type": "code",
   "execution_count": 26,
   "metadata": {},
   "outputs": [],
   "source": [
    "Date_time_df['Issue time'] = Date_time_df['Issue time'].apply(str)\n",
    "\n",
    "for i,time in enumerate(Date_time_df['Issue time']):\n",
    "\n",
    "    length = len(time)\n",
    "    if(length==1):\n",
    "        time=\"000\"+ time\n",
    "    elif(length==2):\n",
    "        time = \"00\" + time\n",
    "    elif(length==3):\n",
    "        time = \"0\"+ time\n",
    "    else:\n",
    "        time = time\n",
    "    \n",
    "    Date_time_df.at[i,\"Issue time\"] = time"
   ]
  },
  {
   "cell_type": "code",
   "execution_count": 27,
   "metadata": {},
   "outputs": [],
   "source": [
    "Date_time_df['Issue time']=pd.to_datetime(Date_time_df['Issue time'],format ='%H%M').dt.time"
   ]
  },
  {
   "cell_type": "code",
   "execution_count": 28,
   "metadata": {},
   "outputs": [
    {
     "data": {
      "text/html": [
       "<div>\n",
       "<style scoped>\n",
       "    .dataframe tbody tr th:only-of-type {\n",
       "        vertical-align: middle;\n",
       "    }\n",
       "\n",
       "    .dataframe tbody tr th {\n",
       "        vertical-align: top;\n",
       "    }\n",
       "\n",
       "    .dataframe thead th {\n",
       "        text-align: right;\n",
       "    }\n",
       "</style>\n",
       "<table border=\"1\" class=\"dataframe\">\n",
       "  <thead>\n",
       "    <tr style=\"text-align: right;\">\n",
       "      <th></th>\n",
       "      <th>Ticket number</th>\n",
       "      <th>Issue Date</th>\n",
       "      <th>Issue time</th>\n",
       "    </tr>\n",
       "  </thead>\n",
       "  <tbody>\n",
       "    <tr>\n",
       "      <th>0</th>\n",
       "      <td>1.103341e+09</td>\n",
       "      <td>2015-12-21</td>\n",
       "      <td>12:51:00</td>\n",
       "    </tr>\n",
       "    <tr>\n",
       "      <th>1</th>\n",
       "      <td>1.103700e+09</td>\n",
       "      <td>2015-12-21</td>\n",
       "      <td>14:35:00</td>\n",
       "    </tr>\n",
       "    <tr>\n",
       "      <th>2</th>\n",
       "      <td>1.104803e+09</td>\n",
       "      <td>2015-12-21</td>\n",
       "      <td>20:55:00</td>\n",
       "    </tr>\n",
       "    <tr>\n",
       "      <th>3</th>\n",
       "      <td>1.104821e+09</td>\n",
       "      <td>2015-12-26</td>\n",
       "      <td>15:15:00</td>\n",
       "    </tr>\n",
       "    <tr>\n",
       "      <th>4</th>\n",
       "      <td>1.105461e+09</td>\n",
       "      <td>2015-09-15</td>\n",
       "      <td>01:15:00</td>\n",
       "    </tr>\n",
       "  </tbody>\n",
       "</table>\n",
       "</div>"
      ],
      "text/plain": [
       "   Ticket number Issue Date Issue time\n",
       "0   1.103341e+09 2015-12-21   12:51:00\n",
       "1   1.103700e+09 2015-12-21   14:35:00\n",
       "2   1.104803e+09 2015-12-21   20:55:00\n",
       "3   1.104821e+09 2015-12-26   15:15:00\n",
       "4   1.105461e+09 2015-09-15   01:15:00"
      ]
     },
     "execution_count": 28,
     "metadata": {},
     "output_type": "execute_result"
    }
   ],
   "source": [
    "Date_time_df.head()"
   ]
  },
  {
   "cell_type": "code",
   "execution_count": 36,
   "metadata": {},
   "outputs": [],
   "source": [
    "DateGrpByDF=Date_time_df.groupby([\"Issue Date\",'Ticket number'])"
   ]
  },
  {
   "cell_type": "code",
   "execution_count": 47,
   "metadata": {},
   "outputs": [
    {
     "data": {
      "text/plain": [
       "Issue Date\n",
       "2015-12-30    7823\n",
       "2015-12-31    7391\n",
       "2016-01-01     938\n",
       "2016-01-02     249\n",
       "2016-01-03    1877\n",
       "2016-01-04    7621\n",
       "2016-01-05    5592\n",
       "2016-01-06    6660\n",
       "2016-01-07    7815\n",
       "Name: Ticket number, dtype: int64"
      ]
     },
     "execution_count": 47,
     "metadata": {},
     "output_type": "execute_result"
    }
   ],
   "source": [
    "TicketCountByDay=DateGrpByDF[\"Ticket number\"].count()\n",
    "TicketCountByDay[-10:-1]"
   ]
  },
  {
   "cell_type": "code",
   "execution_count": null,
   "metadata": {},
   "outputs": [],
   "source": [
    "DateGrpByDF[]"
   ]
  },
  {
   "cell_type": "code",
   "execution_count": 43,
   "metadata": {},
   "outputs": [],
   "source": [
    "TimeGrpByDF=Date_time_df.groupby([\"Issue time\",'Ticket number'])"
   ]
  },
  {
   "cell_type": "code",
   "execution_count": 55,
   "metadata": {},
   "outputs": [
    {
     "data": {
      "text/plain": [
       "Issue time  Ticket number\n",
       "23:55:00    1.111614e+09     1\n",
       "            1.112096e+09     1\n",
       "            1.112105e+09     1\n",
       "            4.272883e+09     1\n",
       "            4.273416e+09     1\n",
       "23:56:00    1.109921e+09     1\n",
       "            4.272510e+09     1\n",
       "            4.272525e+09     1\n",
       "            4.272883e+09     1\n",
       "            4.274082e+09     1\n",
       "            4.274532e+09     1\n",
       "23:57:00    4.274532e+09     1\n",
       "23:59:00    1.109582e+09     1\n",
       "            4.272584e+09     1\n",
       "            4.272631e+09     1\n",
       "            4.273206e+09     1\n",
       "            4.273395e+09     1\n",
       "            4.273906e+09     1\n",
       "            4.274110e+09     1\n",
       "Name: Ticket number, dtype: int64"
      ]
     },
     "execution_count": 55,
     "metadata": {},
     "output_type": "execute_result"
    }
   ],
   "source": [
    "TicketCountByTime=TimeGrpByDF[\"Ticket number\"].count()\n",
    "TicketCountByTime[-20:-1]"
   ]
  }
 ],
 "metadata": {
  "kernelspec": {
   "display_name": "Python [conda env:PythonData] *",
   "language": "python",
   "name": "conda-env-PythonData-py"
  },
  "language_info": {
   "codemirror_mode": {
    "name": "ipython",
    "version": 3
   },
   "file_extension": ".py",
   "mimetype": "text/x-python",
   "name": "python",
   "nbconvert_exporter": "python",
   "pygments_lexer": "ipython3",
   "version": "3.6.8"
  }
 },
 "nbformat": 4,
 "nbformat_minor": 2
}
