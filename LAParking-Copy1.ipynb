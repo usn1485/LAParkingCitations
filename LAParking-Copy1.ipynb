{
 "cells": [
  {
   "cell_type": "code",
   "execution_count": null,
   "metadata": {},
   "outputs": [],
   "source": [
    "#Initial Imports \n",
    "\n",
    "import numpy as np # linear algebra\n",
    "import pandas as pd # data processing, CSV file I/O (e.g. pd.read_csv)\n",
    "import requests\n",
    "import json\n",
    "import csv\n",
    "import matplotlib.pyplot as plt\n",
    "import time \n",
    "import datetime\n",
    "import os\n"
   ]
  },
  {
   "cell_type": "code",
   "execution_count": null,
   "metadata": {},
   "outputs": [],
   "source": [
    "# Read CSV file raw_dataframe = pd.read_csv('../Data/parking-citations.csv',nrows=100000,parse_dates=[\"Issue Date\"])\n",
    "\n",
    "raw_dataframe = pd.read_csv('../Data/parking-citations.csv',parse_dates=[\"Issue Date\"],low_memory=False,nrows=50000)\n",
    "pd.set_option('mode.chained_assignment', None)\n",
    "\n"
   ]
  },
  {
   "cell_type": "code",
   "execution_count": null,
   "metadata": {},
   "outputs": [],
   "source": [
    "dataframe=raw_dataframe.drop(['Meter Id','Marked Time','Plate Expiry Date','VIN','Route','Agency'],axis=1)"
   ]
  },
  {
   "cell_type": "code",
   "execution_count": null,
   "metadata": {},
   "outputs": [],
   "source": [
    "sampleDF=dataframe.sample(frac=0.1, replace=True)"
   ]
  },
  {
   "cell_type": "code",
   "execution_count": null,
   "metadata": {},
   "outputs": [],
   "source": [
    "sampleDF.info()"
   ]
  },
  {
   "cell_type": "code",
   "execution_count": null,
   "metadata": {},
   "outputs": [],
   "source": [
    "Date_time_df=sampleDF.loc[:,[\"Ticket number\",\"Issue Date\",\"Issue time\"]]\n",
    "\n",
    "\n"
   ]
  },
  {
   "cell_type": "code",
   "execution_count": null,
   "metadata": {},
   "outputs": [],
   "source": [
    "Date_time_df['year'] = pd.DatetimeIndex(Date_time_df['Issue Date']).year\n",
    "\n",
    "Date_time_df.head()"
   ]
  },
  {
   "cell_type": "code",
   "execution_count": null,
   "metadata": {},
   "outputs": [],
   "source": [
    "Date_time_df.sort_values(by='Issue Date',ascending=True).head(5)"
   ]
  },
  {
   "cell_type": "code",
   "execution_count": null,
   "metadata": {},
   "outputs": [],
   "source": [
    "grpbyYr=Date_time_df.groupby([\"year\"])\n"
   ]
  },
  {
   "cell_type": "code",
   "execution_count": null,
   "metadata": {},
   "outputs": [],
   "source": [
    "grpbyYr.count().tail(6)"
   ]
  },
  {
   "cell_type": "code",
   "execution_count": null,
   "metadata": {},
   "outputs": [],
   "source": [
    "Date_time_df[\"Issue time\"].isna().any()"
   ]
  },
  {
   "cell_type": "code",
   "execution_count": null,
   "metadata": {},
   "outputs": [],
   "source": [
    "Date_time_df = Date_time_df.dropna(subset=['Issue time'])\n"
   ]
  },
  {
   "cell_type": "code",
   "execution_count": null,
   "metadata": {},
   "outputs": [],
   "source": [
    "Date_time_df[\"Issue time\"].isna().any()"
   ]
  },
  {
   "cell_type": "code",
   "execution_count": null,
   "metadata": {},
   "outputs": [],
   "source": [
    "#Date_time_df['Issue time'].dtype"
   ]
  },
  {
   "cell_type": "code",
   "execution_count": null,
   "metadata": {},
   "outputs": [],
   "source": [
    "Date_time_df['Issue time'] = Date_time_df.loc[:,['Issue time']].astype(int)"
   ]
  },
  {
   "cell_type": "code",
   "execution_count": null,
   "metadata": {},
   "outputs": [],
   "source": [
    "Date_time_df['Issue time'].dtype"
   ]
  },
  {
   "cell_type": "code",
   "execution_count": null,
   "metadata": {},
   "outputs": [],
   "source": [
    "Date_time_df['Issue time'][:5]"
   ]
  },
  {
   "cell_type": "code",
   "execution_count": null,
   "metadata": {},
   "outputs": [],
   "source": [
    "Date_time_df['Issue time'] = Date_time_df['Issue time'].apply(str)\n",
    "timeData=Date_time_df['Issue time']\n",
    "for i, time in timeData.items():\n",
    "    issueTimeLen=len(time)\n",
    "    #print(issueTimeLen)\n",
    "    if(issueTimeLen==1):\n",
    "        time=\"000\"+time\n",
    "    elif(issueTimeLen==2):\n",
    "        time=\"00\"+time\n",
    "    elif(issueTimeLen==3):\n",
    "        time=\"0\"+time   \n",
    "    else: \n",
    "        time=time        \n",
    "    Date_time_df.at[i,'Issue time']=time\n"
   ]
  },
  {
   "cell_type": "code",
   "execution_count": null,
   "metadata": {},
   "outputs": [],
   "source": [
    "Date_time_df['Issue time'][0:10]"
   ]
  },
  {
   "cell_type": "code",
   "execution_count": null,
   "metadata": {},
   "outputs": [],
   "source": [
    "#Date_time_df['Issue time'] = Date_time_df.loc[:,['Issue time']].astype(int)\n",
    "def issuetimesplit(x):\n",
    "   \n",
    "    hour=str(x)[:-2]\n",
    "    minutes=str(x)[-2:]\n",
    "    #time=hour\n",
    "    time=print(f\"{hour} : {minutes}\")\n",
    "    return time"
   ]
  },
  {
   "cell_type": "code",
   "execution_count": null,
   "metadata": {},
   "outputs": [],
   "source": [
    "timeData=Date_time_df['Issue time']\n",
    "for i,v in timeData.items():\n",
    "        issuetimesplit(v) \n",
    "        #Date_time_df.at[i,'Issue time'] = \n",
    "Date_time_df['Issue time'][0:10]"
   ]
  },
  {
   "cell_type": "code",
   "execution_count": null,
   "metadata": {},
   "outputs": [],
   "source": [
    "grpby_date=Date_time_df.groupby(['Issue time'])\n",
    "print(grpby_date)\n",
    "grpby_date.count().tail(10)"
   ]
  }
 ],
 "metadata": {
  "kernelspec": {
   "display_name": "Python [conda env:PythonData] *",
   "language": "python",
   "name": "conda-env-PythonData-py"
  },
  "language_info": {
   "codemirror_mode": {
    "name": "ipython",
    "version": 3
   },
   "file_extension": ".py",
   "mimetype": "text/x-python",
   "name": "python",
   "nbconvert_exporter": "python",
   "pygments_lexer": "ipython3",
   "version": "3.6.8"
  }
 },
 "nbformat": 4,
 "nbformat_minor": 2
}
